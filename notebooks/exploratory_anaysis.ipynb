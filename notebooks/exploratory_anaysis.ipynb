{
 "cells": [
  {
   "cell_type": "code",
   "execution_count": 2,
   "id": "2e17e20c",
   "metadata": {},
   "outputs": [],
   "source": [
    "import pandas as pd\n"
   ]
  },
  {
   "cell_type": "code",
   "execution_count": null,
   "id": "79bb7584",
   "metadata": {},
   "outputs": [
    {
     "data": {
      "application/vnd.microsoft.datawrangler.viewer.v0+json": {
       "columns": [
        {
         "name": "index",
         "rawType": "int64",
         "type": "integer"
        },
        {
         "name": "Symbol",
         "rawType": "object",
         "type": "unknown"
        },
        {
         "name": "Security Name",
         "rawType": "object",
         "type": "unknown"
        },
        {
         "name": "Market Category",
         "rawType": "object",
         "type": "unknown"
        },
        {
         "name": "Test Issue",
         "rawType": "object",
         "type": "unknown"
        },
        {
         "name": "Financial Status",
         "rawType": "object",
         "type": "unknown"
        },
        {
         "name": "Round Lot Size",
         "rawType": "float64",
         "type": "float"
        },
        {
         "name": "ETF",
         "rawType": "object",
         "type": "unknown"
        },
        {
         "name": "NextShares",
         "rawType": "object",
         "type": "unknown"
        }
       ],
       "conversionMethod": "pd.DataFrame",
       "ref": "d84a3301-7574-4108-80ee-c4e2d6509109",
       "rows": [
        [
         "0",
         "AACB",
         "Artius II Acquisition Inc. - Class A Ordinary Shares",
         "G",
         "N",
         "N",
         "100.0",
         "N",
         "N"
        ],
        [
         "1",
         "AACBR",
         "Artius II Acquisition Inc. - Rights",
         "G",
         "N",
         "N",
         "100.0",
         "N",
         "N"
        ],
        [
         "2",
         "AACBU",
         "Artius II Acquisition Inc. - Units",
         "G",
         "N",
         "N",
         "100.0",
         "N",
         "N"
        ],
        [
         "3",
         "AACG",
         "ATA Creativity Global - American Depositary Shares, each representing two common shares",
         "G",
         "N",
         "D",
         "100.0",
         "N",
         "N"
        ],
        [
         "4",
         "AADR",
         "AdvisorShares Dorsey Wright ADR ETF",
         "G",
         "N",
         "N",
         "100.0",
         "Y",
         "N"
        ],
        [
         "5",
         "AAL",
         "American Airlines Group, Inc. - Common Stock",
         "Q",
         "N",
         "N",
         "100.0",
         "N",
         "N"
        ],
        [
         "6",
         "AAME",
         "Atlantic American Corporation - Common Stock",
         "G",
         "N",
         "N",
         "100.0",
         "N",
         "N"
        ],
        [
         "7",
         "AAOI",
         "Applied Optoelectronics, Inc. - Common Stock",
         "G",
         "N",
         "N",
         "100.0",
         "N",
         "N"
        ],
        [
         "8",
         "AAON",
         "AAON, Inc. - Common Stock",
         "Q",
         "N",
         "N",
         "100.0",
         "N",
         "N"
        ],
        [
         "9",
         "AAPB",
         "GraniteShares 2x Long AAPL Daily ETF",
         "G",
         "N",
         "N",
         "100.0",
         "Y",
         "N"
        ],
        [
         "10",
         "AAPD",
         "Direxion Daily AAPL Bear 1X Shares",
         "G",
         "N",
         "N",
         "100.0",
         "Y",
         "N"
        ],
        [
         "11",
         "AAPG",
         "Ascentage Pharma Group International - American Depository Shares",
         "G",
         "N",
         "N",
         "100.0",
         "N",
         "N"
        ],
        [
         "12",
         "AAPL",
         "Apple Inc. - Common Stock",
         "Q",
         "N",
         "N",
         "100.0",
         "N",
         "N"
        ],
        [
         "13",
         "AAPU",
         "Direxion Daily AAPL Bull 2X Shares",
         "G",
         "N",
         "N",
         "100.0",
         "Y",
         "N"
        ],
        [
         "14",
         "AARD",
         "Aardvark Therapeutics, Inc. - Common Stock",
         "Q",
         "N",
         "N",
         "100.0",
         "N",
         "N"
        ],
        [
         "15",
         "AAVM",
         "Alpha Architect Global Factor Equity ETF",
         "G",
         "N",
         "N",
         "100.0",
         "Y",
         "N"
        ],
        [
         "16",
         "AAXJ",
         "iShares MSCI All Country Asia ex Japan ETF",
         "G",
         "N",
         "N",
         "100.0",
         "Y",
         "N"
        ],
        [
         "17",
         "ABAT",
         "American Battery Technology Company - Common Stock",
         "S",
         "N",
         "N",
         "100.0",
         "N",
         "N"
        ],
        [
         "18",
         "ABCL",
         "AbCellera Biologics Inc. - Common Shares",
         "Q",
         "N",
         "N",
         "100.0",
         "N",
         "N"
        ],
        [
         "19",
         "ABCS",
         "Alpha Blue Capital US Small-Mid Cap Dynamic ETF",
         "G",
         "N",
         "N",
         "100.0",
         "Y",
         "N"
        ],
        [
         "20",
         "ABEO",
         "Abeona Therapeutics Inc. - Common Stock",
         "S",
         "N",
         "N",
         "100.0",
         "N",
         "N"
        ],
        [
         "21",
         "ABIG",
         "Argent Large Cap ETF",
         "G",
         "N",
         "N",
         "100.0",
         "Y",
         "N"
        ],
        [
         "22",
         "ABL",
         "Abacus Global Management, Inc. - Class A Common Stock",
         "S",
         "N",
         "N",
         "100.0",
         "N",
         "N"
        ],
        [
         "23",
         "ABLLL",
         "Abacus Global Management, Inc. - 9.875% Fixed Rate Senior Notes due 2028",
         "G",
         "N",
         "N",
         "100.0",
         "N",
         "N"
        ],
        [
         "24",
         "ABLLW",
         "Abacus Global Management, Inc. - Warrant",
         "S",
         "N",
         "N",
         "100.0",
         "N",
         "N"
        ],
        [
         "25",
         "ABLV",
         "Able View Global Inc. - Class B Ordinary Shares",
         "S",
         "N",
         "N",
         "100.0",
         "N",
         "N"
        ],
        [
         "26",
         "ABLVW",
         "Able View Global Inc. - Warrant",
         "S",
         "N",
         "N",
         "100.0",
         "N",
         "N"
        ],
        [
         "27",
         "ABNB",
         "Airbnb, Inc. - Class A Common Stock",
         "Q",
         "N",
         "N",
         "100.0",
         "N",
         "N"
        ],
        [
         "28",
         "ABOS",
         "Acumen Pharmaceuticals, Inc. - Common Stock",
         "Q",
         "N",
         "N",
         "100.0",
         "N",
         "N"
        ],
        [
         "29",
         "ABP",
         "Abpro Holdings, Inc - Common Stock",
         "G",
         "N",
         "D",
         "100.0",
         "N",
         "N"
        ],
        [
         "30",
         "ABPWW",
         "Abpro Holdings, Inc - Warrant",
         "S",
         "N",
         "N",
         "100.0",
         "N",
         "N"
        ],
        [
         "31",
         "ABSI",
         "Absci Corporation - Common Stock",
         "Q",
         "N",
         "N",
         "100.0",
         "N",
         "N"
        ],
        [
         "32",
         "ABTS",
         "Abits Group Inc - Ordinary Shares",
         "S",
         "N",
         "N",
         "100.0",
         "N",
         "N"
        ],
        [
         "33",
         "ABUS",
         "Arbutus Biopharma Corporation - Common Stock",
         "Q",
         "N",
         "N",
         "100.0",
         "N",
         "N"
        ],
        [
         "34",
         "ABVC",
         "ABVC BioPharma, Inc. - Common Stock",
         "S",
         "N",
         "D",
         "100.0",
         "N",
         "N"
        ],
        [
         "35",
         "ABVE",
         "Above Food Ingredients Inc. - Common Stock",
         "G",
         "N",
         "H",
         "100.0",
         "N",
         "N"
        ],
        [
         "36",
         "ABVEW",
         "Above Food Ingredients Inc. - Warrant",
         "G",
         "N",
         "E",
         "100.0",
         "N",
         "N"
        ],
        [
         "37",
         "ABVX",
         "Abivax SA - American Depositary Shares",
         "G",
         "N",
         "N",
         "100.0",
         "N",
         "N"
        ],
        [
         "38",
         "ACAD",
         "ACADIA Pharmaceuticals Inc. - Common Stock",
         "Q",
         "N",
         "N",
         "100.0",
         "N",
         "N"
        ],
        [
         "39",
         "ACB",
         "Aurora Cannabis Inc. - Common Shares",
         "S",
         "N",
         "N",
         "100.0",
         "N",
         "N"
        ],
        [
         "40",
         "ACDC",
         "ProFrac Holding Corp. - Class A Common Stock",
         "Q",
         "N",
         "N",
         "100.0",
         "N",
         "N"
        ],
        [
         "41",
         "ACET",
         "Adicet Bio, Inc. - Common Stock",
         "G",
         "N",
         "D",
         "100.0",
         "N",
         "N"
        ],
        [
         "42",
         "ACGL",
         "Arch Capital Group Ltd. - Common Stock",
         "Q",
         "N",
         "N",
         "100.0",
         "N",
         "N"
        ],
        [
         "43",
         "ACGLN",
         "Arch Capital Group Ltd. - Depositary Shares, each Representing a 1/1,000th Interest in a 4.550% Non-Cumulative Preferred Share, Series G",
         "Q",
         "N",
         "N",
         "100.0",
         "N",
         "N"
        ],
        [
         "44",
         "ACGLO",
         "Arch Capital Group Ltd. - Depositary Shares Each Representing 1/1,000th Interest in a Share of5.45% Non-Cumulative Preferred Shares, Series F",
         "Q",
         "N",
         "N",
         "100.0",
         "N",
         "N"
        ],
        [
         "45",
         "ACHC",
         "Acadia Healthcare Company, Inc. - Common Stock",
         "Q",
         "N",
         "N",
         "100.0",
         "N",
         "N"
        ],
        [
         "46",
         "ACHV",
         "Achieve Life Sciences, Inc.  - Common Shares",
         "S",
         "N",
         "N",
         "100.0",
         "N",
         "N"
        ],
        [
         "47",
         "ACIC",
         "American Coastal Insurance Corporation - Common Stock",
         "S",
         "N",
         "N",
         "100.0",
         "N",
         "N"
        ],
        [
         "48",
         "ACIU",
         "AC Immune SA - Common Stock",
         "G",
         "N",
         "N",
         "100.0",
         "N",
         "N"
        ],
        [
         "49",
         "ACIW",
         "ACI Worldwide, Inc. - Common Stock",
         "Q",
         "N",
         "N",
         "100.0",
         "N",
         "N"
        ]
       ],
       "shape": {
        "columns": 8,
        "rows": 4845
       }
      },
      "text/html": [
       "<div>\n",
       "<style scoped>\n",
       "    .dataframe tbody tr th:only-of-type {\n",
       "        vertical-align: middle;\n",
       "    }\n",
       "\n",
       "    .dataframe tbody tr th {\n",
       "        vertical-align: top;\n",
       "    }\n",
       "\n",
       "    .dataframe thead th {\n",
       "        text-align: right;\n",
       "    }\n",
       "</style>\n",
       "<table border=\"1\" class=\"dataframe\">\n",
       "  <thead>\n",
       "    <tr style=\"text-align: right;\">\n",
       "      <th></th>\n",
       "      <th>Symbol</th>\n",
       "      <th>Security Name</th>\n",
       "      <th>Market Category</th>\n",
       "      <th>Test Issue</th>\n",
       "      <th>Financial Status</th>\n",
       "      <th>Round Lot Size</th>\n",
       "      <th>ETF</th>\n",
       "      <th>NextShares</th>\n",
       "    </tr>\n",
       "  </thead>\n",
       "  <tbody>\n",
       "    <tr>\n",
       "      <th>0</th>\n",
       "      <td>AACB</td>\n",
       "      <td>Artius II Acquisition Inc. - Class A Ordinary ...</td>\n",
       "      <td>G</td>\n",
       "      <td>N</td>\n",
       "      <td>N</td>\n",
       "      <td>100.0</td>\n",
       "      <td>N</td>\n",
       "      <td>N</td>\n",
       "    </tr>\n",
       "    <tr>\n",
       "      <th>1</th>\n",
       "      <td>AACBR</td>\n",
       "      <td>Artius II Acquisition Inc. - Rights</td>\n",
       "      <td>G</td>\n",
       "      <td>N</td>\n",
       "      <td>N</td>\n",
       "      <td>100.0</td>\n",
       "      <td>N</td>\n",
       "      <td>N</td>\n",
       "    </tr>\n",
       "    <tr>\n",
       "      <th>2</th>\n",
       "      <td>AACBU</td>\n",
       "      <td>Artius II Acquisition Inc. - Units</td>\n",
       "      <td>G</td>\n",
       "      <td>N</td>\n",
       "      <td>N</td>\n",
       "      <td>100.0</td>\n",
       "      <td>N</td>\n",
       "      <td>N</td>\n",
       "    </tr>\n",
       "    <tr>\n",
       "      <th>3</th>\n",
       "      <td>AACG</td>\n",
       "      <td>ATA Creativity Global - American Depositary Sh...</td>\n",
       "      <td>G</td>\n",
       "      <td>N</td>\n",
       "      <td>D</td>\n",
       "      <td>100.0</td>\n",
       "      <td>N</td>\n",
       "      <td>N</td>\n",
       "    </tr>\n",
       "    <tr>\n",
       "      <th>4</th>\n",
       "      <td>AADR</td>\n",
       "      <td>AdvisorShares Dorsey Wright ADR ETF</td>\n",
       "      <td>G</td>\n",
       "      <td>N</td>\n",
       "      <td>N</td>\n",
       "      <td>100.0</td>\n",
       "      <td>Y</td>\n",
       "      <td>N</td>\n",
       "    </tr>\n",
       "    <tr>\n",
       "      <th>...</th>\n",
       "      <td>...</td>\n",
       "      <td>...</td>\n",
       "      <td>...</td>\n",
       "      <td>...</td>\n",
       "      <td>...</td>\n",
       "      <td>...</td>\n",
       "      <td>...</td>\n",
       "      <td>...</td>\n",
       "    </tr>\n",
       "    <tr>\n",
       "      <th>4840</th>\n",
       "      <td>ZYBT</td>\n",
       "      <td>Zhengye Biotechnology Holding Limited - Ordina...</td>\n",
       "      <td>S</td>\n",
       "      <td>N</td>\n",
       "      <td>N</td>\n",
       "      <td>100.0</td>\n",
       "      <td>N</td>\n",
       "      <td>N</td>\n",
       "    </tr>\n",
       "    <tr>\n",
       "      <th>4841</th>\n",
       "      <td>ZYME</td>\n",
       "      <td>Zymeworks Inc. - Common Stock</td>\n",
       "      <td>Q</td>\n",
       "      <td>N</td>\n",
       "      <td>N</td>\n",
       "      <td>100.0</td>\n",
       "      <td>N</td>\n",
       "      <td>N</td>\n",
       "    </tr>\n",
       "    <tr>\n",
       "      <th>4842</th>\n",
       "      <td>ZYXI</td>\n",
       "      <td>Zynex, Inc. - Common Stock</td>\n",
       "      <td>Q</td>\n",
       "      <td>N</td>\n",
       "      <td>N</td>\n",
       "      <td>100.0</td>\n",
       "      <td>N</td>\n",
       "      <td>N</td>\n",
       "    </tr>\n",
       "    <tr>\n",
       "      <th>4843</th>\n",
       "      <td>ZZZ</td>\n",
       "      <td>Cyber Hornet S&amp;P 500 and Bitcoin 75/25 Strateg...</td>\n",
       "      <td>G</td>\n",
       "      <td>N</td>\n",
       "      <td>N</td>\n",
       "      <td>100.0</td>\n",
       "      <td>Y</td>\n",
       "      <td>N</td>\n",
       "    </tr>\n",
       "    <tr>\n",
       "      <th>4844</th>\n",
       "      <td>File Creation Time: 0506202511:01</td>\n",
       "      <td>NaN</td>\n",
       "      <td>NaN</td>\n",
       "      <td>NaN</td>\n",
       "      <td>NaN</td>\n",
       "      <td>NaN</td>\n",
       "      <td>NaN</td>\n",
       "      <td>NaN</td>\n",
       "    </tr>\n",
       "  </tbody>\n",
       "</table>\n",
       "<p>4845 rows × 8 columns</p>\n",
       "</div>"
      ],
      "text/plain": [
       "                                 Symbol  \\\n",
       "0                                  AACB   \n",
       "1                                 AACBR   \n",
       "2                                 AACBU   \n",
       "3                                  AACG   \n",
       "4                                  AADR   \n",
       "...                                 ...   \n",
       "4840                               ZYBT   \n",
       "4841                               ZYME   \n",
       "4842                               ZYXI   \n",
       "4843                                ZZZ   \n",
       "4844  File Creation Time: 0506202511:01   \n",
       "\n",
       "                                          Security Name Market Category  \\\n",
       "0     Artius II Acquisition Inc. - Class A Ordinary ...               G   \n",
       "1                   Artius II Acquisition Inc. - Rights               G   \n",
       "2                    Artius II Acquisition Inc. - Units               G   \n",
       "3     ATA Creativity Global - American Depositary Sh...               G   \n",
       "4                   AdvisorShares Dorsey Wright ADR ETF               G   \n",
       "...                                                 ...             ...   \n",
       "4840  Zhengye Biotechnology Holding Limited - Ordina...               S   \n",
       "4841                      Zymeworks Inc. - Common Stock               Q   \n",
       "4842                         Zynex, Inc. - Common Stock               Q   \n",
       "4843  Cyber Hornet S&P 500 and Bitcoin 75/25 Strateg...               G   \n",
       "4844                                                NaN             NaN   \n",
       "\n",
       "     Test Issue Financial Status  Round Lot Size  ETF NextShares  \n",
       "0             N                N           100.0    N          N  \n",
       "1             N                N           100.0    N          N  \n",
       "2             N                N           100.0    N          N  \n",
       "3             N                D           100.0    N          N  \n",
       "4             N                N           100.0    Y          N  \n",
       "...         ...              ...             ...  ...        ...  \n",
       "4840          N                N           100.0    N          N  \n",
       "4841          N                N           100.0    N          N  \n",
       "4842          N                N           100.0    N          N  \n",
       "4843          N                N           100.0    Y          N  \n",
       "4844        NaN              NaN             NaN  NaN        NaN  \n",
       "\n",
       "[4845 rows x 8 columns]"
      ]
     },
     "execution_count": 48,
     "metadata": {},
     "output_type": "execute_result"
    }
   ],
   "source": [
    "nasdaq_tickers = pd.read_csv('../data/raw/nasdaq_tickers.txt', sep='|')\n",
    "nyse_tickers = pd.read_csv('../data/raw/other_tickers.txt', sep='|')\n",
    "nasdaq_tickers"
   ]
  },
  {
   "cell_type": "code",
   "execution_count": null,
   "id": "9c639dbc",
   "metadata": {},
   "outputs": [
    {
     "data": {
      "application/vnd.microsoft.datawrangler.viewer.v0+json": {
       "columns": [
        {
         "name": "index",
         "rawType": "int64",
         "type": "integer"
        },
        {
         "name": "ACT Symbol",
         "rawType": "object",
         "type": "string"
        },
        {
         "name": "Security Name",
         "rawType": "object",
         "type": "string"
        },
        {
         "name": "Exchange",
         "rawType": "object",
         "type": "string"
        },
        {
         "name": "CQS Symbol",
         "rawType": "object",
         "type": "string"
        },
        {
         "name": "ETF",
         "rawType": "object",
         "type": "string"
        },
        {
         "name": "Round Lot Size",
         "rawType": "float64",
         "type": "float"
        },
        {
         "name": "Test Issue",
         "rawType": "object",
         "type": "string"
        },
        {
         "name": "NASDAQ Symbol",
         "rawType": "object",
         "type": "string"
        }
       ],
       "conversionMethod": "pd.DataFrame",
       "ref": "7f4d38f4-3f9a-4fc3-b637-ca279bb6b9c9",
       "rows": [
        [
         "0",
         "A",
         "Agilent Technologies, Inc. Common Stock",
         "N",
         "A",
         "N",
         "100.0",
         "N",
         "A"
        ],
        [
         "1",
         "AA",
         "Alcoa Corporation Common Stock ",
         "N",
         "AA",
         "N",
         "100.0",
         "N",
         "AA"
        ],
        [
         "4",
         "AACT",
         "Ares Acquisition Corporation II Class A Ordinary Shares",
         "N",
         "AACT",
         "N",
         "100.0",
         "N",
         "AACT"
        ],
        [
         "5",
         "AACT.U",
         "Ares Acquisition Corporation II Units, each consisting of one Class A ordinary share and one-half of one redeemable warrant",
         "N",
         "AACT.U",
         "N",
         "100.0",
         "N",
         "AACT="
        ],
        [
         "6",
         "AACT.W",
         "Ares Acquisition Corporation II Redeemable Warrants, each whole warrant exercisable for one Class A ordinary share at an exercise price of $11.50",
         "N",
         "AACT.WS",
         "N",
         "100.0",
         "N",
         "AACT+"
        ],
        [
         "7",
         "AAM",
         "AA Mission Acquisition Corp. Class A Ordinary Shares",
         "N",
         "AAM",
         "N",
         "100.0",
         "N",
         "AAM"
        ],
        [
         "8",
         "AAM.U",
         "AA Mission Acquisition Corp. Units, each consisting of one Class A Ordinary Share and one-half of one redeemable warrant",
         "N",
         "AAM.U",
         "N",
         "100.0",
         "N",
         "AAM="
        ],
        [
         "9",
         "AAM.W",
         "AA Mission Acquisition Corp. Warrants, each whole warrant entitles the holder to purchase one Class A ordinary share at a price of $11.50 per share",
         "N",
         "AAM.WS",
         "N",
         "100.0",
         "N",
         "AAM+"
        ],
        [
         "10",
         "AAMI",
         "Acadian Asset Management Inc. Common Stock",
         "N",
         "AAMI",
         "N",
         "100.0",
         "N",
         "AAMI"
        ],
        [
         "11",
         "AAP",
         "Advance Auto Parts Inc.",
         "N",
         "AAP",
         "N",
         "100.0",
         "N",
         "AAP"
        ],
        [
         "16",
         "AAT",
         "American Assets Trust, Inc. Common Stock",
         "N",
         "AAT",
         "N",
         "100.0",
         "N",
         "AAT"
        ],
        [
         "17",
         "AB",
         "AllianceBernstein Holding L.P.  Units",
         "N",
         "AB",
         "N",
         "100.0",
         "N",
         "AB"
        ],
        [
         "18",
         "ABBV",
         "AbbVie Inc. Common Stock",
         "N",
         "ABBV",
         "N",
         "100.0",
         "N",
         "ABBV"
        ],
        [
         "19",
         "ABCB",
         "Ameris Bancorp Common Stock",
         "N",
         "ABCB",
         "N",
         "100.0",
         "N",
         "ABCB"
        ],
        [
         "21",
         "ABEV",
         "Ambev S.A. American Depositary Shares (Each representing 1 Common Share)",
         "N",
         "ABEV",
         "N",
         "100.0",
         "N",
         "ABEV"
        ],
        [
         "23",
         "ABG",
         "Asbury Automotive Group Inc Common Stock",
         "N",
         "ABG",
         "N",
         "100.0",
         "N",
         "ABG"
        ],
        [
         "28",
         "ABM",
         "ABM Industries Incorporated Common Stock",
         "N",
         "ABM",
         "N",
         "100.0",
         "N",
         "ABM"
        ],
        [
         "31",
         "ABR",
         "Arbor Realty Trust Common Stock",
         "N",
         "ABR",
         "N",
         "100.0",
         "N",
         "ABR"
        ],
        [
         "32",
         "ABR$D",
         "Arbor Realty Trust 6.375% Series D Cumulative Redeemable Preferred Stock, Liquidation Preference $25.00 per Share",
         "N",
         "ABRpD",
         "N",
         "100.0",
         "N",
         "ABR-D"
        ],
        [
         "33",
         "ABR$E",
         "Arbor Realty Trust 6.25% Series E Cumulative Redeemable Preferred Stock",
         "N",
         "ABRpE",
         "N",
         "100.0",
         "N",
         "ABR-E"
        ],
        [
         "34",
         "ABR$F",
         "Arbor Realty Trust 6.25% Series F Fixed-to-Floating Rate Cumulative Redeemable Preferred Stock, Liquidation Preference $25.00 per share",
         "N",
         "ABRpF",
         "N",
         "100.0",
         "N",
         "ABR-F"
        ],
        [
         "35",
         "ABT",
         "Abbott Laboratories Common Stock",
         "N",
         "ABT",
         "N",
         "100.0",
         "N",
         "ABT"
        ],
        [
         "36",
         "AC",
         "Associated Capital Group, Inc. Common Stock",
         "N",
         "AC",
         "N",
         "100.0",
         "N",
         "AC"
        ],
        [
         "37",
         "ACA",
         "Arcosa, Inc. Common Stock ",
         "N",
         "ACA",
         "N",
         "100.0",
         "N",
         "ACA"
        ],
        [
         "38",
         "ACCO",
         "Acco Brands Corporation Common Stock",
         "N",
         "ACCO",
         "N",
         "100.0",
         "N",
         "ACCO"
        ],
        [
         "39",
         "ACCS",
         "ACCESS Newswire Inc. Common Stock",
         "A",
         "ACCS",
         "N",
         "100.0",
         "N",
         "ACCS"
        ],
        [
         "40",
         "ACEL",
         "Accel Entertainment, Inc. ",
         "N",
         "ACEL",
         "N",
         "100.0",
         "N",
         "ACEL"
        ],
        [
         "43",
         "ACHR",
         "Archer Aviation Inc. Class A Common Stock",
         "N",
         "ACHR",
         "N",
         "100.0",
         "N",
         "ACHR"
        ],
        [
         "44",
         "ACHR.W",
         "Archer Aviation Inc. Redeemable Warrants, each whole warrant exercisable for one Class A common stock at an exercise price of $11.50",
         "N",
         "ACHR.WS",
         "N",
         "100.0",
         "N",
         "ACHR+"
        ],
        [
         "45",
         "ACI",
         "Albertsons Companies, Inc. Class A Common Stock",
         "N",
         "ACI",
         "N",
         "100.0",
         "N",
         "ACI"
        ],
        [
         "49",
         "ACM",
         "AECOM Common Stock",
         "N",
         "ACM",
         "N",
         "100.0",
         "N",
         "ACM"
        ],
        [
         "50",
         "ACN",
         "Accenture plc Class A Ordinary Shares (Ireland)",
         "N",
         "ACN",
         "N",
         "100.0",
         "N",
         "ACN"
        ],
        [
         "51",
         "ACP",
         "abrdn Income Credit Strategies Fund Common Shares",
         "N",
         "ACP",
         "N",
         "100.0",
         "N",
         "ACP"
        ],
        [
         "52",
         "ACP$A",
         "abrdn Income Credit Strategies Fund 5.250% Series A Perpetual Preferred Stock",
         "N",
         "ACPpA",
         "N",
         "100.0",
         "N",
         "ACP-A"
        ],
        [
         "53",
         "ACR",
         "ACRES Commercial Realty Corp. Common Stock",
         "N",
         "ACR",
         "N",
         "100.0",
         "N",
         "ACR"
        ],
        [
         "54",
         "ACR$C",
         "ACRES Commercial Realty Corp. 8.625% Fixed-to-Floating Series C Cumulative Redeemable Preferred Stock ",
         "N",
         "ACRpC",
         "N",
         "100.0",
         "N",
         "ACR-C"
        ],
        [
         "55",
         "ACR$D",
         "ACRES Commercial Realty Corp. 7.875% Series D Cumulative Redeemable Preferred Stock",
         "N",
         "ACRpD",
         "N",
         "100.0",
         "N",
         "ACR-D"
        ],
        [
         "56",
         "ACRE",
         "Ares Commercial Real Estate Corporation Common Stock",
         "N",
         "ACRE",
         "N",
         "100.0",
         "N",
         "ACRE"
        ],
        [
         "59",
         "ACU",
         "Acme United Corporation. Common Stock",
         "A",
         "ACU",
         "N",
         "100.0",
         "N",
         "ACU"
        ],
        [
         "60",
         "ACV",
         "Virtus Diversified Income & Convertible Fund Common Shares of Beneficial Interest",
         "N",
         "ACV",
         "N",
         "100.0",
         "N",
         "ACV"
        ],
        [
         "61",
         "ACVA",
         "ACV Auctions Inc. Class A Common Stock",
         "N",
         "ACVA",
         "N",
         "100.0",
         "N",
         "ACVA"
        ],
        [
         "65",
         "ADC",
         "Agree Realty Corporation Common Stock",
         "N",
         "ADC",
         "N",
         "100.0",
         "N",
         "ADC"
        ],
        [
         "66",
         "ADC$A",
         "Agree Realty Corporation Depositary Shares, each representing 1/1,000th of a 4.250% Series A Cumulative Redeemable Preferred Stock",
         "N",
         "ADCpA",
         "N",
         "100.0",
         "N",
         "ADC-A"
        ],
        [
         "67",
         "ADCT",
         "ADC Therapeutics SA Common Shares",
         "N",
         "ADCT",
         "N",
         "100.0",
         "N",
         "ADCT"
        ],
        [
         "70",
         "ADM",
         "Archer-Daniels-Midland Company Common Stock",
         "N",
         "ADM",
         "N",
         "100.0",
         "N",
         "ADM"
        ],
        [
         "72",
         "ADNT",
         "Adient plc Ordinary Shares ",
         "N",
         "ADNT",
         "N",
         "100.0",
         "N",
         "ADNT"
        ],
        [
         "74",
         "ADT",
         "ADT Inc. Common Stock",
         "N",
         "ADT",
         "N",
         "100.0",
         "N",
         "ADT"
        ],
        [
         "76",
         "ADX",
         "Adams Diversified Equity Fund Inc.",
         "N",
         "ADX",
         "N",
         "100.0",
         "N",
         "ADX"
        ],
        [
         "77",
         "AEE",
         "Ameren Corporation Common Stock",
         "N",
         "AEE",
         "N",
         "100.0",
         "N",
         "AEE"
        ],
        [
         "78",
         "AEF",
         "abrdn Emerging Markets ex-China Fund, Inc. Common Stock",
         "A",
         "AEF",
         "N",
         "100.0",
         "N",
         "AEF"
        ]
       ],
       "shape": {
        "columns": 8,
        "rows": 3145
       }
      },
      "text/html": [
       "<div>\n",
       "<style scoped>\n",
       "    .dataframe tbody tr th:only-of-type {\n",
       "        vertical-align: middle;\n",
       "    }\n",
       "\n",
       "    .dataframe tbody tr th {\n",
       "        vertical-align: top;\n",
       "    }\n",
       "\n",
       "    .dataframe thead th {\n",
       "        text-align: right;\n",
       "    }\n",
       "</style>\n",
       "<table border=\"1\" class=\"dataframe\">\n",
       "  <thead>\n",
       "    <tr style=\"text-align: right;\">\n",
       "      <th></th>\n",
       "      <th>ACT Symbol</th>\n",
       "      <th>Security Name</th>\n",
       "      <th>Exchange</th>\n",
       "      <th>CQS Symbol</th>\n",
       "      <th>ETF</th>\n",
       "      <th>Round Lot Size</th>\n",
       "      <th>Test Issue</th>\n",
       "      <th>NASDAQ Symbol</th>\n",
       "    </tr>\n",
       "  </thead>\n",
       "  <tbody>\n",
       "    <tr>\n",
       "      <th>0</th>\n",
       "      <td>A</td>\n",
       "      <td>Agilent Technologies, Inc. Common Stock</td>\n",
       "      <td>N</td>\n",
       "      <td>A</td>\n",
       "      <td>N</td>\n",
       "      <td>100.0</td>\n",
       "      <td>N</td>\n",
       "      <td>A</td>\n",
       "    </tr>\n",
       "    <tr>\n",
       "      <th>1</th>\n",
       "      <td>AA</td>\n",
       "      <td>Alcoa Corporation Common Stock</td>\n",
       "      <td>N</td>\n",
       "      <td>AA</td>\n",
       "      <td>N</td>\n",
       "      <td>100.0</td>\n",
       "      <td>N</td>\n",
       "      <td>AA</td>\n",
       "    </tr>\n",
       "    <tr>\n",
       "      <th>4</th>\n",
       "      <td>AACT</td>\n",
       "      <td>Ares Acquisition Corporation II Class A Ordina...</td>\n",
       "      <td>N</td>\n",
       "      <td>AACT</td>\n",
       "      <td>N</td>\n",
       "      <td>100.0</td>\n",
       "      <td>N</td>\n",
       "      <td>AACT</td>\n",
       "    </tr>\n",
       "    <tr>\n",
       "      <th>5</th>\n",
       "      <td>AACT.U</td>\n",
       "      <td>Ares Acquisition Corporation II Units, each co...</td>\n",
       "      <td>N</td>\n",
       "      <td>AACT.U</td>\n",
       "      <td>N</td>\n",
       "      <td>100.0</td>\n",
       "      <td>N</td>\n",
       "      <td>AACT=</td>\n",
       "    </tr>\n",
       "    <tr>\n",
       "      <th>6</th>\n",
       "      <td>AACT.W</td>\n",
       "      <td>Ares Acquisition Corporation II Redeemable War...</td>\n",
       "      <td>N</td>\n",
       "      <td>AACT.WS</td>\n",
       "      <td>N</td>\n",
       "      <td>100.0</td>\n",
       "      <td>N</td>\n",
       "      <td>AACT+</td>\n",
       "    </tr>\n",
       "    <tr>\n",
       "      <th>...</th>\n",
       "      <td>...</td>\n",
       "      <td>...</td>\n",
       "      <td>...</td>\n",
       "      <td>...</td>\n",
       "      <td>...</td>\n",
       "      <td>...</td>\n",
       "      <td>...</td>\n",
       "      <td>...</td>\n",
       "    </tr>\n",
       "    <tr>\n",
       "      <th>6484</th>\n",
       "      <td>ZTO</td>\n",
       "      <td>ZTO Express (Cayman) Inc. American Depositary ...</td>\n",
       "      <td>N</td>\n",
       "      <td>ZTO</td>\n",
       "      <td>N</td>\n",
       "      <td>100.0</td>\n",
       "      <td>N</td>\n",
       "      <td>ZTO</td>\n",
       "    </tr>\n",
       "    <tr>\n",
       "      <th>6485</th>\n",
       "      <td>ZTR</td>\n",
       "      <td>Virtus Total Return Fund Inc.</td>\n",
       "      <td>N</td>\n",
       "      <td>ZTR</td>\n",
       "      <td>N</td>\n",
       "      <td>100.0</td>\n",
       "      <td>N</td>\n",
       "      <td>ZTR</td>\n",
       "    </tr>\n",
       "    <tr>\n",
       "      <th>6486</th>\n",
       "      <td>ZTS</td>\n",
       "      <td>Zoetis Inc. Class A Common Stock</td>\n",
       "      <td>N</td>\n",
       "      <td>ZTS</td>\n",
       "      <td>N</td>\n",
       "      <td>100.0</td>\n",
       "      <td>N</td>\n",
       "      <td>ZTS</td>\n",
       "    </tr>\n",
       "    <tr>\n",
       "      <th>6487</th>\n",
       "      <td>ZVIA</td>\n",
       "      <td>Zevia PBC Class A Common Stock</td>\n",
       "      <td>N</td>\n",
       "      <td>ZVIA</td>\n",
       "      <td>N</td>\n",
       "      <td>100.0</td>\n",
       "      <td>N</td>\n",
       "      <td>ZVIA</td>\n",
       "    </tr>\n",
       "    <tr>\n",
       "      <th>6490</th>\n",
       "      <td>ZWS</td>\n",
       "      <td>Zurn Elkay Water Solutions Corporation Common ...</td>\n",
       "      <td>N</td>\n",
       "      <td>ZWS</td>\n",
       "      <td>N</td>\n",
       "      <td>100.0</td>\n",
       "      <td>N</td>\n",
       "      <td>ZWS</td>\n",
       "    </tr>\n",
       "  </tbody>\n",
       "</table>\n",
       "<p>3145 rows × 8 columns</p>\n",
       "</div>"
      ],
      "text/plain": [
       "     ACT Symbol                                      Security Name Exchange  \\\n",
       "0             A            Agilent Technologies, Inc. Common Stock        N   \n",
       "1            AA                    Alcoa Corporation Common Stock         N   \n",
       "4          AACT  Ares Acquisition Corporation II Class A Ordina...        N   \n",
       "5        AACT.U  Ares Acquisition Corporation II Units, each co...        N   \n",
       "6        AACT.W  Ares Acquisition Corporation II Redeemable War...        N   \n",
       "...         ...                                                ...      ...   \n",
       "6484        ZTO  ZTO Express (Cayman) Inc. American Depositary ...        N   \n",
       "6485        ZTR                      Virtus Total Return Fund Inc.        N   \n",
       "6486        ZTS                   Zoetis Inc. Class A Common Stock        N   \n",
       "6487       ZVIA                     Zevia PBC Class A Common Stock        N   \n",
       "6490        ZWS  Zurn Elkay Water Solutions Corporation Common ...        N   \n",
       "\n",
       "     CQS Symbol ETF  Round Lot Size Test Issue NASDAQ Symbol  \n",
       "0             A   N           100.0          N             A  \n",
       "1            AA   N           100.0          N            AA  \n",
       "4          AACT   N           100.0          N          AACT  \n",
       "5        AACT.U   N           100.0          N         AACT=  \n",
       "6       AACT.WS   N           100.0          N         AACT+  \n",
       "...         ...  ..             ...        ...           ...  \n",
       "6484        ZTO   N           100.0          N           ZTO  \n",
       "6485        ZTR   N           100.0          N           ZTR  \n",
       "6486        ZTS   N           100.0          N           ZTS  \n",
       "6487       ZVIA   N           100.0          N          ZVIA  \n",
       "6490        ZWS   N           100.0          N           ZWS  \n",
       "\n",
       "[3145 rows x 8 columns]"
      ]
     },
     "execution_count": 49,
     "metadata": {},
     "output_type": "execute_result"
    }
   ],
   "source": [
    "# Cleaning other tickers csv\n",
    "nyse_tickers = nyse_tickers[nyse_tickers['Test Issue'] == 'N']\n",
    "nyse_tickers = nyse_tickers[nyse_tickers['ETF'] == 'N']\n",
    "nyse_tickers"
   ]
  },
  {
   "cell_type": "code",
   "execution_count": null,
   "id": "a452e567",
   "metadata": {},
   "outputs": [],
   "source": [
    "others_columns_to_drop = ['Exchange', 'CQS Symbol', 'ETF', 'Round Lot Size', 'Test Issue']\n",
    "nyse_tickers.drop(labels=others_columns_to_drop, axis=1, inplace=True)"
   ]
  },
  {
   "cell_type": "code",
   "execution_count": 51,
   "id": "3bb67b69",
   "metadata": {},
   "outputs": [
    {
     "data": {
      "application/vnd.microsoft.datawrangler.viewer.v0+json": {
       "columns": [
        {
         "name": "index",
         "rawType": "int64",
         "type": "integer"
        },
        {
         "name": "Symbol",
         "rawType": "object",
         "type": "string"
        },
        {
         "name": "Security Name",
         "rawType": "object",
         "type": "string"
        },
        {
         "name": "Market Category",
         "rawType": "object",
         "type": "string"
        },
        {
         "name": "Test Issue",
         "rawType": "object",
         "type": "string"
        },
        {
         "name": "Financial Status",
         "rawType": "object",
         "type": "string"
        },
        {
         "name": "Round Lot Size",
         "rawType": "float64",
         "type": "float"
        },
        {
         "name": "ETF",
         "rawType": "object",
         "type": "string"
        },
        {
         "name": "NextShares",
         "rawType": "object",
         "type": "string"
        }
       ],
       "conversionMethod": "pd.DataFrame",
       "ref": "6ebd6397-d33e-40ed-afb7-d4b8da3a49dc",
       "rows": [
        [
         "0",
         "AACB",
         "Artius II Acquisition Inc. - Class A Ordinary Shares",
         "G",
         "N",
         "N",
         "100.0",
         "N",
         "N"
        ],
        [
         "1",
         "AACBR",
         "Artius II Acquisition Inc. - Rights",
         "G",
         "N",
         "N",
         "100.0",
         "N",
         "N"
        ],
        [
         "2",
         "AACBU",
         "Artius II Acquisition Inc. - Units",
         "G",
         "N",
         "N",
         "100.0",
         "N",
         "N"
        ],
        [
         "3",
         "AACG",
         "ATA Creativity Global - American Depositary Shares, each representing two common shares",
         "G",
         "N",
         "D",
         "100.0",
         "N",
         "N"
        ],
        [
         "5",
         "AAL",
         "American Airlines Group, Inc. - Common Stock",
         "Q",
         "N",
         "N",
         "100.0",
         "N",
         "N"
        ],
        [
         "6",
         "AAME",
         "Atlantic American Corporation - Common Stock",
         "G",
         "N",
         "N",
         "100.0",
         "N",
         "N"
        ],
        [
         "7",
         "AAOI",
         "Applied Optoelectronics, Inc. - Common Stock",
         "G",
         "N",
         "N",
         "100.0",
         "N",
         "N"
        ],
        [
         "8",
         "AAON",
         "AAON, Inc. - Common Stock",
         "Q",
         "N",
         "N",
         "100.0",
         "N",
         "N"
        ],
        [
         "11",
         "AAPG",
         "Ascentage Pharma Group International - American Depository Shares",
         "G",
         "N",
         "N",
         "100.0",
         "N",
         "N"
        ],
        [
         "12",
         "AAPL",
         "Apple Inc. - Common Stock",
         "Q",
         "N",
         "N",
         "100.0",
         "N",
         "N"
        ],
        [
         "14",
         "AARD",
         "Aardvark Therapeutics, Inc. - Common Stock",
         "Q",
         "N",
         "N",
         "100.0",
         "N",
         "N"
        ],
        [
         "17",
         "ABAT",
         "American Battery Technology Company - Common Stock",
         "S",
         "N",
         "N",
         "100.0",
         "N",
         "N"
        ],
        [
         "18",
         "ABCL",
         "AbCellera Biologics Inc. - Common Shares",
         "Q",
         "N",
         "N",
         "100.0",
         "N",
         "N"
        ],
        [
         "20",
         "ABEO",
         "Abeona Therapeutics Inc. - Common Stock",
         "S",
         "N",
         "N",
         "100.0",
         "N",
         "N"
        ],
        [
         "22",
         "ABL",
         "Abacus Global Management, Inc. - Class A Common Stock",
         "S",
         "N",
         "N",
         "100.0",
         "N",
         "N"
        ],
        [
         "23",
         "ABLLL",
         "Abacus Global Management, Inc. - 9.875% Fixed Rate Senior Notes due 2028",
         "G",
         "N",
         "N",
         "100.0",
         "N",
         "N"
        ],
        [
         "24",
         "ABLLW",
         "Abacus Global Management, Inc. - Warrant",
         "S",
         "N",
         "N",
         "100.0",
         "N",
         "N"
        ],
        [
         "25",
         "ABLV",
         "Able View Global Inc. - Class B Ordinary Shares",
         "S",
         "N",
         "N",
         "100.0",
         "N",
         "N"
        ],
        [
         "26",
         "ABLVW",
         "Able View Global Inc. - Warrant",
         "S",
         "N",
         "N",
         "100.0",
         "N",
         "N"
        ],
        [
         "27",
         "ABNB",
         "Airbnb, Inc. - Class A Common Stock",
         "Q",
         "N",
         "N",
         "100.0",
         "N",
         "N"
        ],
        [
         "28",
         "ABOS",
         "Acumen Pharmaceuticals, Inc. - Common Stock",
         "Q",
         "N",
         "N",
         "100.0",
         "N",
         "N"
        ],
        [
         "29",
         "ABP",
         "Abpro Holdings, Inc - Common Stock",
         "G",
         "N",
         "D",
         "100.0",
         "N",
         "N"
        ],
        [
         "30",
         "ABPWW",
         "Abpro Holdings, Inc - Warrant",
         "S",
         "N",
         "N",
         "100.0",
         "N",
         "N"
        ],
        [
         "31",
         "ABSI",
         "Absci Corporation - Common Stock",
         "Q",
         "N",
         "N",
         "100.0",
         "N",
         "N"
        ],
        [
         "32",
         "ABTS",
         "Abits Group Inc - Ordinary Shares",
         "S",
         "N",
         "N",
         "100.0",
         "N",
         "N"
        ],
        [
         "33",
         "ABUS",
         "Arbutus Biopharma Corporation - Common Stock",
         "Q",
         "N",
         "N",
         "100.0",
         "N",
         "N"
        ],
        [
         "34",
         "ABVC",
         "ABVC BioPharma, Inc. - Common Stock",
         "S",
         "N",
         "D",
         "100.0",
         "N",
         "N"
        ],
        [
         "35",
         "ABVE",
         "Above Food Ingredients Inc. - Common Stock",
         "G",
         "N",
         "H",
         "100.0",
         "N",
         "N"
        ],
        [
         "36",
         "ABVEW",
         "Above Food Ingredients Inc. - Warrant",
         "G",
         "N",
         "E",
         "100.0",
         "N",
         "N"
        ],
        [
         "37",
         "ABVX",
         "Abivax SA - American Depositary Shares",
         "G",
         "N",
         "N",
         "100.0",
         "N",
         "N"
        ],
        [
         "38",
         "ACAD",
         "ACADIA Pharmaceuticals Inc. - Common Stock",
         "Q",
         "N",
         "N",
         "100.0",
         "N",
         "N"
        ],
        [
         "39",
         "ACB",
         "Aurora Cannabis Inc. - Common Shares",
         "S",
         "N",
         "N",
         "100.0",
         "N",
         "N"
        ],
        [
         "40",
         "ACDC",
         "ProFrac Holding Corp. - Class A Common Stock",
         "Q",
         "N",
         "N",
         "100.0",
         "N",
         "N"
        ],
        [
         "41",
         "ACET",
         "Adicet Bio, Inc. - Common Stock",
         "G",
         "N",
         "D",
         "100.0",
         "N",
         "N"
        ],
        [
         "42",
         "ACGL",
         "Arch Capital Group Ltd. - Common Stock",
         "Q",
         "N",
         "N",
         "100.0",
         "N",
         "N"
        ],
        [
         "43",
         "ACGLN",
         "Arch Capital Group Ltd. - Depositary Shares, each Representing a 1/1,000th Interest in a 4.550% Non-Cumulative Preferred Share, Series G",
         "Q",
         "N",
         "N",
         "100.0",
         "N",
         "N"
        ],
        [
         "44",
         "ACGLO",
         "Arch Capital Group Ltd. - Depositary Shares Each Representing 1/1,000th Interest in a Share of5.45% Non-Cumulative Preferred Shares, Series F",
         "Q",
         "N",
         "N",
         "100.0",
         "N",
         "N"
        ],
        [
         "45",
         "ACHC",
         "Acadia Healthcare Company, Inc. - Common Stock",
         "Q",
         "N",
         "N",
         "100.0",
         "N",
         "N"
        ],
        [
         "46",
         "ACHV",
         "Achieve Life Sciences, Inc.  - Common Shares",
         "S",
         "N",
         "N",
         "100.0",
         "N",
         "N"
        ],
        [
         "47",
         "ACIC",
         "American Coastal Insurance Corporation - Common Stock",
         "S",
         "N",
         "N",
         "100.0",
         "N",
         "N"
        ],
        [
         "48",
         "ACIU",
         "AC Immune SA - Common Stock",
         "G",
         "N",
         "N",
         "100.0",
         "N",
         "N"
        ],
        [
         "49",
         "ACIW",
         "ACI Worldwide, Inc. - Common Stock",
         "Q",
         "N",
         "N",
         "100.0",
         "N",
         "N"
        ],
        [
         "50",
         "ACLS",
         "Axcelis Technologies, Inc. - Common Stock",
         "Q",
         "N",
         "N",
         "100.0",
         "N",
         "N"
        ],
        [
         "51",
         "ACLX",
         "Arcellx, Inc. - Common Stock",
         "Q",
         "N",
         "N",
         "100.0",
         "N",
         "N"
        ],
        [
         "52",
         "ACMR",
         "ACM Research, Inc. - Class A Common Stock",
         "G",
         "N",
         "N",
         "100.0",
         "N",
         "N"
        ],
        [
         "53",
         "ACNB",
         "ACNB Corporation - Common Stock",
         "S",
         "N",
         "N",
         "100.0",
         "N",
         "N"
        ],
        [
         "54",
         "ACNT",
         "Ascent Industries Co. - Common Stock",
         "G",
         "N",
         "N",
         "100.0",
         "N",
         "N"
        ],
        [
         "55",
         "ACOG",
         "Alpha Cognition Inc. - Common Stock",
         "S",
         "N",
         "N",
         "100.0",
         "N",
         "N"
        ],
        [
         "56",
         "ACON",
         "Aclarion, Inc. - Common Stock",
         "S",
         "N",
         "N",
         "100.0",
         "N",
         "N"
        ],
        [
         "57",
         "ACONW",
         "Aclarion, Inc. - Warrant",
         "S",
         "N",
         "N",
         "100.0",
         "N",
         "N"
        ]
       ],
       "shape": {
        "columns": 8,
        "rows": 3979
       }
      },
      "text/html": [
       "<div>\n",
       "<style scoped>\n",
       "    .dataframe tbody tr th:only-of-type {\n",
       "        vertical-align: middle;\n",
       "    }\n",
       "\n",
       "    .dataframe tbody tr th {\n",
       "        vertical-align: top;\n",
       "    }\n",
       "\n",
       "    .dataframe thead th {\n",
       "        text-align: right;\n",
       "    }\n",
       "</style>\n",
       "<table border=\"1\" class=\"dataframe\">\n",
       "  <thead>\n",
       "    <tr style=\"text-align: right;\">\n",
       "      <th></th>\n",
       "      <th>Symbol</th>\n",
       "      <th>Security Name</th>\n",
       "      <th>Market Category</th>\n",
       "      <th>Test Issue</th>\n",
       "      <th>Financial Status</th>\n",
       "      <th>Round Lot Size</th>\n",
       "      <th>ETF</th>\n",
       "      <th>NextShares</th>\n",
       "    </tr>\n",
       "  </thead>\n",
       "  <tbody>\n",
       "    <tr>\n",
       "      <th>0</th>\n",
       "      <td>AACB</td>\n",
       "      <td>Artius II Acquisition Inc. - Class A Ordinary ...</td>\n",
       "      <td>G</td>\n",
       "      <td>N</td>\n",
       "      <td>N</td>\n",
       "      <td>100.0</td>\n",
       "      <td>N</td>\n",
       "      <td>N</td>\n",
       "    </tr>\n",
       "    <tr>\n",
       "      <th>1</th>\n",
       "      <td>AACBR</td>\n",
       "      <td>Artius II Acquisition Inc. - Rights</td>\n",
       "      <td>G</td>\n",
       "      <td>N</td>\n",
       "      <td>N</td>\n",
       "      <td>100.0</td>\n",
       "      <td>N</td>\n",
       "      <td>N</td>\n",
       "    </tr>\n",
       "    <tr>\n",
       "      <th>2</th>\n",
       "      <td>AACBU</td>\n",
       "      <td>Artius II Acquisition Inc. - Units</td>\n",
       "      <td>G</td>\n",
       "      <td>N</td>\n",
       "      <td>N</td>\n",
       "      <td>100.0</td>\n",
       "      <td>N</td>\n",
       "      <td>N</td>\n",
       "    </tr>\n",
       "    <tr>\n",
       "      <th>3</th>\n",
       "      <td>AACG</td>\n",
       "      <td>ATA Creativity Global - American Depositary Sh...</td>\n",
       "      <td>G</td>\n",
       "      <td>N</td>\n",
       "      <td>D</td>\n",
       "      <td>100.0</td>\n",
       "      <td>N</td>\n",
       "      <td>N</td>\n",
       "    </tr>\n",
       "    <tr>\n",
       "      <th>5</th>\n",
       "      <td>AAL</td>\n",
       "      <td>American Airlines Group, Inc. - Common Stock</td>\n",
       "      <td>Q</td>\n",
       "      <td>N</td>\n",
       "      <td>N</td>\n",
       "      <td>100.0</td>\n",
       "      <td>N</td>\n",
       "      <td>N</td>\n",
       "    </tr>\n",
       "    <tr>\n",
       "      <th>...</th>\n",
       "      <td>...</td>\n",
       "      <td>...</td>\n",
       "      <td>...</td>\n",
       "      <td>...</td>\n",
       "      <td>...</td>\n",
       "      <td>...</td>\n",
       "      <td>...</td>\n",
       "      <td>...</td>\n",
       "    </tr>\n",
       "    <tr>\n",
       "      <th>4834</th>\n",
       "      <td>ZVRA</td>\n",
       "      <td>Zevra Therapeutics, Inc.  - Common Stock</td>\n",
       "      <td>Q</td>\n",
       "      <td>N</td>\n",
       "      <td>N</td>\n",
       "      <td>100.0</td>\n",
       "      <td>N</td>\n",
       "      <td>N</td>\n",
       "    </tr>\n",
       "    <tr>\n",
       "      <th>4835</th>\n",
       "      <td>ZVSA</td>\n",
       "      <td>ZyVersa Therapeutics, Inc. - Common Stock</td>\n",
       "      <td>S</td>\n",
       "      <td>N</td>\n",
       "      <td>N</td>\n",
       "      <td>100.0</td>\n",
       "      <td>N</td>\n",
       "      <td>N</td>\n",
       "    </tr>\n",
       "    <tr>\n",
       "      <th>4840</th>\n",
       "      <td>ZYBT</td>\n",
       "      <td>Zhengye Biotechnology Holding Limited - Ordina...</td>\n",
       "      <td>S</td>\n",
       "      <td>N</td>\n",
       "      <td>N</td>\n",
       "      <td>100.0</td>\n",
       "      <td>N</td>\n",
       "      <td>N</td>\n",
       "    </tr>\n",
       "    <tr>\n",
       "      <th>4841</th>\n",
       "      <td>ZYME</td>\n",
       "      <td>Zymeworks Inc. - Common Stock</td>\n",
       "      <td>Q</td>\n",
       "      <td>N</td>\n",
       "      <td>N</td>\n",
       "      <td>100.0</td>\n",
       "      <td>N</td>\n",
       "      <td>N</td>\n",
       "    </tr>\n",
       "    <tr>\n",
       "      <th>4842</th>\n",
       "      <td>ZYXI</td>\n",
       "      <td>Zynex, Inc. - Common Stock</td>\n",
       "      <td>Q</td>\n",
       "      <td>N</td>\n",
       "      <td>N</td>\n",
       "      <td>100.0</td>\n",
       "      <td>N</td>\n",
       "      <td>N</td>\n",
       "    </tr>\n",
       "  </tbody>\n",
       "</table>\n",
       "<p>3979 rows × 8 columns</p>\n",
       "</div>"
      ],
      "text/plain": [
       "     Symbol                                      Security Name  \\\n",
       "0      AACB  Artius II Acquisition Inc. - Class A Ordinary ...   \n",
       "1     AACBR                Artius II Acquisition Inc. - Rights   \n",
       "2     AACBU                 Artius II Acquisition Inc. - Units   \n",
       "3      AACG  ATA Creativity Global - American Depositary Sh...   \n",
       "5       AAL       American Airlines Group, Inc. - Common Stock   \n",
       "...     ...                                                ...   \n",
       "4834   ZVRA           Zevra Therapeutics, Inc.  - Common Stock   \n",
       "4835   ZVSA          ZyVersa Therapeutics, Inc. - Common Stock   \n",
       "4840   ZYBT  Zhengye Biotechnology Holding Limited - Ordina...   \n",
       "4841   ZYME                      Zymeworks Inc. - Common Stock   \n",
       "4842   ZYXI                         Zynex, Inc. - Common Stock   \n",
       "\n",
       "     Market Category Test Issue Financial Status  Round Lot Size ETF  \\\n",
       "0                  G          N                N           100.0   N   \n",
       "1                  G          N                N           100.0   N   \n",
       "2                  G          N                N           100.0   N   \n",
       "3                  G          N                D           100.0   N   \n",
       "5                  Q          N                N           100.0   N   \n",
       "...              ...        ...              ...             ...  ..   \n",
       "4834               Q          N                N           100.0   N   \n",
       "4835               S          N                N           100.0   N   \n",
       "4840               S          N                N           100.0   N   \n",
       "4841               Q          N                N           100.0   N   \n",
       "4842               Q          N                N           100.0   N   \n",
       "\n",
       "     NextShares  \n",
       "0             N  \n",
       "1             N  \n",
       "2             N  \n",
       "3             N  \n",
       "5             N  \n",
       "...         ...  \n",
       "4834          N  \n",
       "4835          N  \n",
       "4840          N  \n",
       "4841          N  \n",
       "4842          N  \n",
       "\n",
       "[3979 rows x 8 columns]"
      ]
     },
     "execution_count": 51,
     "metadata": {},
     "output_type": "execute_result"
    }
   ],
   "source": [
    "# Clean nasdaq ticker data\n",
    "nasdaq_tickers = nasdaq_tickers[nasdaq_tickers['Test Issue'] == 'N']\n",
    "nasdaq_tickers = nasdaq_tickers[nasdaq_tickers['ETF'] == 'N']\n",
    "nasdaq_tickers = nasdaq_tickers[nasdaq_tickers['NextShares'] == 'N']\n",
    "# nasdaq_tickers\n",
    "# Still 1 missing ticker symbol\n",
    "# nasdaq_tickers[nasdaq_tickers['Symbol'].isnull()]\n",
    "# after googling, found the symbol is NA for this company, no other stock has that ticker so will replace the null with NA row id 2894\n",
    "nasdaq_tickers['Symbol'] = nasdaq_tickers['Symbol'].fillna('NA')\n",
    "nasdaq_tickers"
   ]
  },
  {
   "cell_type": "code",
   "execution_count": 52,
   "id": "70b7ddbd",
   "metadata": {},
   "outputs": [
    {
     "data": {
      "application/vnd.microsoft.datawrangler.viewer.v0+json": {
       "columns": [
        {
         "name": "index",
         "rawType": "int64",
         "type": "integer"
        },
        {
         "name": "Symbol",
         "rawType": "object",
         "type": "string"
        },
        {
         "name": "Security Name",
         "rawType": "object",
         "type": "string"
        }
       ],
       "conversionMethod": "pd.DataFrame",
       "ref": "021cda40-7b56-4f5b-899d-bd27df4a0b72",
       "rows": [
        [
         "0",
         "AACB",
         "Artius II Acquisition Inc. - Class A Ordinary Shares"
        ],
        [
         "1",
         "AACBR",
         "Artius II Acquisition Inc. - Rights"
        ],
        [
         "2",
         "AACBU",
         "Artius II Acquisition Inc. - Units"
        ],
        [
         "3",
         "AACG",
         "ATA Creativity Global - American Depositary Shares, each representing two common shares"
        ],
        [
         "5",
         "AAL",
         "American Airlines Group, Inc. - Common Stock"
        ],
        [
         "6",
         "AAME",
         "Atlantic American Corporation - Common Stock"
        ],
        [
         "7",
         "AAOI",
         "Applied Optoelectronics, Inc. - Common Stock"
        ],
        [
         "8",
         "AAON",
         "AAON, Inc. - Common Stock"
        ],
        [
         "11",
         "AAPG",
         "Ascentage Pharma Group International - American Depository Shares"
        ],
        [
         "12",
         "AAPL",
         "Apple Inc. - Common Stock"
        ],
        [
         "14",
         "AARD",
         "Aardvark Therapeutics, Inc. - Common Stock"
        ],
        [
         "17",
         "ABAT",
         "American Battery Technology Company - Common Stock"
        ],
        [
         "18",
         "ABCL",
         "AbCellera Biologics Inc. - Common Shares"
        ],
        [
         "20",
         "ABEO",
         "Abeona Therapeutics Inc. - Common Stock"
        ],
        [
         "22",
         "ABL",
         "Abacus Global Management, Inc. - Class A Common Stock"
        ],
        [
         "23",
         "ABLLL",
         "Abacus Global Management, Inc. - 9.875% Fixed Rate Senior Notes due 2028"
        ],
        [
         "24",
         "ABLLW",
         "Abacus Global Management, Inc. - Warrant"
        ],
        [
         "25",
         "ABLV",
         "Able View Global Inc. - Class B Ordinary Shares"
        ],
        [
         "26",
         "ABLVW",
         "Able View Global Inc. - Warrant"
        ],
        [
         "27",
         "ABNB",
         "Airbnb, Inc. - Class A Common Stock"
        ],
        [
         "28",
         "ABOS",
         "Acumen Pharmaceuticals, Inc. - Common Stock"
        ],
        [
         "29",
         "ABP",
         "Abpro Holdings, Inc - Common Stock"
        ],
        [
         "30",
         "ABPWW",
         "Abpro Holdings, Inc - Warrant"
        ],
        [
         "31",
         "ABSI",
         "Absci Corporation - Common Stock"
        ],
        [
         "32",
         "ABTS",
         "Abits Group Inc - Ordinary Shares"
        ],
        [
         "33",
         "ABUS",
         "Arbutus Biopharma Corporation - Common Stock"
        ],
        [
         "34",
         "ABVC",
         "ABVC BioPharma, Inc. - Common Stock"
        ],
        [
         "35",
         "ABVE",
         "Above Food Ingredients Inc. - Common Stock"
        ],
        [
         "36",
         "ABVEW",
         "Above Food Ingredients Inc. - Warrant"
        ],
        [
         "37",
         "ABVX",
         "Abivax SA - American Depositary Shares"
        ],
        [
         "38",
         "ACAD",
         "ACADIA Pharmaceuticals Inc. - Common Stock"
        ],
        [
         "39",
         "ACB",
         "Aurora Cannabis Inc. - Common Shares"
        ],
        [
         "40",
         "ACDC",
         "ProFrac Holding Corp. - Class A Common Stock"
        ],
        [
         "41",
         "ACET",
         "Adicet Bio, Inc. - Common Stock"
        ],
        [
         "42",
         "ACGL",
         "Arch Capital Group Ltd. - Common Stock"
        ],
        [
         "43",
         "ACGLN",
         "Arch Capital Group Ltd. - Depositary Shares, each Representing a 1/1,000th Interest in a 4.550% Non-Cumulative Preferred Share, Series G"
        ],
        [
         "44",
         "ACGLO",
         "Arch Capital Group Ltd. - Depositary Shares Each Representing 1/1,000th Interest in a Share of5.45% Non-Cumulative Preferred Shares, Series F"
        ],
        [
         "45",
         "ACHC",
         "Acadia Healthcare Company, Inc. - Common Stock"
        ],
        [
         "46",
         "ACHV",
         "Achieve Life Sciences, Inc.  - Common Shares"
        ],
        [
         "47",
         "ACIC",
         "American Coastal Insurance Corporation - Common Stock"
        ],
        [
         "48",
         "ACIU",
         "AC Immune SA - Common Stock"
        ],
        [
         "49",
         "ACIW",
         "ACI Worldwide, Inc. - Common Stock"
        ],
        [
         "50",
         "ACLS",
         "Axcelis Technologies, Inc. - Common Stock"
        ],
        [
         "51",
         "ACLX",
         "Arcellx, Inc. - Common Stock"
        ],
        [
         "52",
         "ACMR",
         "ACM Research, Inc. - Class A Common Stock"
        ],
        [
         "53",
         "ACNB",
         "ACNB Corporation - Common Stock"
        ],
        [
         "54",
         "ACNT",
         "Ascent Industries Co. - Common Stock"
        ],
        [
         "55",
         "ACOG",
         "Alpha Cognition Inc. - Common Stock"
        ],
        [
         "56",
         "ACON",
         "Aclarion, Inc. - Common Stock"
        ],
        [
         "57",
         "ACONW",
         "Aclarion, Inc. - Warrant"
        ]
       ],
       "shape": {
        "columns": 2,
        "rows": 3979
       }
      },
      "text/html": [
       "<div>\n",
       "<style scoped>\n",
       "    .dataframe tbody tr th:only-of-type {\n",
       "        vertical-align: middle;\n",
       "    }\n",
       "\n",
       "    .dataframe tbody tr th {\n",
       "        vertical-align: top;\n",
       "    }\n",
       "\n",
       "    .dataframe thead th {\n",
       "        text-align: right;\n",
       "    }\n",
       "</style>\n",
       "<table border=\"1\" class=\"dataframe\">\n",
       "  <thead>\n",
       "    <tr style=\"text-align: right;\">\n",
       "      <th></th>\n",
       "      <th>Symbol</th>\n",
       "      <th>Security Name</th>\n",
       "    </tr>\n",
       "  </thead>\n",
       "  <tbody>\n",
       "    <tr>\n",
       "      <th>0</th>\n",
       "      <td>AACB</td>\n",
       "      <td>Artius II Acquisition Inc. - Class A Ordinary ...</td>\n",
       "    </tr>\n",
       "    <tr>\n",
       "      <th>1</th>\n",
       "      <td>AACBR</td>\n",
       "      <td>Artius II Acquisition Inc. - Rights</td>\n",
       "    </tr>\n",
       "    <tr>\n",
       "      <th>2</th>\n",
       "      <td>AACBU</td>\n",
       "      <td>Artius II Acquisition Inc. - Units</td>\n",
       "    </tr>\n",
       "    <tr>\n",
       "      <th>3</th>\n",
       "      <td>AACG</td>\n",
       "      <td>ATA Creativity Global - American Depositary Sh...</td>\n",
       "    </tr>\n",
       "    <tr>\n",
       "      <th>5</th>\n",
       "      <td>AAL</td>\n",
       "      <td>American Airlines Group, Inc. - Common Stock</td>\n",
       "    </tr>\n",
       "    <tr>\n",
       "      <th>...</th>\n",
       "      <td>...</td>\n",
       "      <td>...</td>\n",
       "    </tr>\n",
       "    <tr>\n",
       "      <th>4834</th>\n",
       "      <td>ZVRA</td>\n",
       "      <td>Zevra Therapeutics, Inc.  - Common Stock</td>\n",
       "    </tr>\n",
       "    <tr>\n",
       "      <th>4835</th>\n",
       "      <td>ZVSA</td>\n",
       "      <td>ZyVersa Therapeutics, Inc. - Common Stock</td>\n",
       "    </tr>\n",
       "    <tr>\n",
       "      <th>4840</th>\n",
       "      <td>ZYBT</td>\n",
       "      <td>Zhengye Biotechnology Holding Limited - Ordina...</td>\n",
       "    </tr>\n",
       "    <tr>\n",
       "      <th>4841</th>\n",
       "      <td>ZYME</td>\n",
       "      <td>Zymeworks Inc. - Common Stock</td>\n",
       "    </tr>\n",
       "    <tr>\n",
       "      <th>4842</th>\n",
       "      <td>ZYXI</td>\n",
       "      <td>Zynex, Inc. - Common Stock</td>\n",
       "    </tr>\n",
       "  </tbody>\n",
       "</table>\n",
       "<p>3979 rows × 2 columns</p>\n",
       "</div>"
      ],
      "text/plain": [
       "     Symbol                                      Security Name\n",
       "0      AACB  Artius II Acquisition Inc. - Class A Ordinary ...\n",
       "1     AACBR                Artius II Acquisition Inc. - Rights\n",
       "2     AACBU                 Artius II Acquisition Inc. - Units\n",
       "3      AACG  ATA Creativity Global - American Depositary Sh...\n",
       "5       AAL       American Airlines Group, Inc. - Common Stock\n",
       "...     ...                                                ...\n",
       "4834   ZVRA           Zevra Therapeutics, Inc.  - Common Stock\n",
       "4835   ZVSA          ZyVersa Therapeutics, Inc. - Common Stock\n",
       "4840   ZYBT  Zhengye Biotechnology Holding Limited - Ordina...\n",
       "4841   ZYME                      Zymeworks Inc. - Common Stock\n",
       "4842   ZYXI                         Zynex, Inc. - Common Stock\n",
       "\n",
       "[3979 rows x 2 columns]"
      ]
     },
     "execution_count": 52,
     "metadata": {},
     "output_type": "execute_result"
    }
   ],
   "source": [
    "nasdaq_columns_to_drop = ['Market Category', 'Test Issue', 'Financial Status', 'Round Lot Size', 'ETF', 'NextShares']\n",
    "nasdaq_tickers.drop(labels=nasdaq_columns_to_drop, axis=1, inplace=True)\n",
    "nasdaq_tickers"
   ]
  },
  {
   "cell_type": "code",
   "execution_count": null,
   "id": "c03ead2d",
   "metadata": {},
   "outputs": [
    {
     "data": {
      "application/vnd.microsoft.datawrangler.viewer.v0+json": {
       "columns": [
        {
         "name": "index",
         "rawType": "int64",
         "type": "integer"
        },
        {
         "name": "ACT Symbol",
         "rawType": "object",
         "type": "string"
        },
        {
         "name": "Security Name",
         "rawType": "object",
         "type": "string"
        },
        {
         "name": "NASDAQ Symbol",
         "rawType": "object",
         "type": "string"
        }
       ],
       "conversionMethod": "pd.DataFrame",
       "ref": "f5858c06-c6ff-4ed6-892d-7dfb37986e30",
       "rows": [
        [
         "0",
         "A",
         "Agilent Technologies, Inc. Common Stock",
         "A"
        ],
        [
         "1",
         "AA",
         "Alcoa Corporation Common Stock ",
         "AA"
        ],
        [
         "4",
         "AACT",
         "Ares Acquisition Corporation II Class A Ordinary Shares",
         "AACT"
        ],
        [
         "5",
         "AACT.U",
         "Ares Acquisition Corporation II Units, each consisting of one Class A ordinary share and one-half of one redeemable warrant",
         "AACT="
        ],
        [
         "6",
         "AACT.W",
         "Ares Acquisition Corporation II Redeemable Warrants, each whole warrant exercisable for one Class A ordinary share at an exercise price of $11.50",
         "AACT+"
        ],
        [
         "7",
         "AAM",
         "AA Mission Acquisition Corp. Class A Ordinary Shares",
         "AAM"
        ],
        [
         "8",
         "AAM.U",
         "AA Mission Acquisition Corp. Units, each consisting of one Class A Ordinary Share and one-half of one redeemable warrant",
         "AAM="
        ],
        [
         "9",
         "AAM.W",
         "AA Mission Acquisition Corp. Warrants, each whole warrant entitles the holder to purchase one Class A ordinary share at a price of $11.50 per share",
         "AAM+"
        ],
        [
         "10",
         "AAMI",
         "Acadian Asset Management Inc. Common Stock",
         "AAMI"
        ],
        [
         "11",
         "AAP",
         "Advance Auto Parts Inc.",
         "AAP"
        ],
        [
         "16",
         "AAT",
         "American Assets Trust, Inc. Common Stock",
         "AAT"
        ],
        [
         "17",
         "AB",
         "AllianceBernstein Holding L.P.  Units",
         "AB"
        ],
        [
         "18",
         "ABBV",
         "AbbVie Inc. Common Stock",
         "ABBV"
        ],
        [
         "19",
         "ABCB",
         "Ameris Bancorp Common Stock",
         "ABCB"
        ],
        [
         "21",
         "ABEV",
         "Ambev S.A. American Depositary Shares (Each representing 1 Common Share)",
         "ABEV"
        ],
        [
         "23",
         "ABG",
         "Asbury Automotive Group Inc Common Stock",
         "ABG"
        ],
        [
         "28",
         "ABM",
         "ABM Industries Incorporated Common Stock",
         "ABM"
        ],
        [
         "31",
         "ABR",
         "Arbor Realty Trust Common Stock",
         "ABR"
        ],
        [
         "32",
         "ABR$D",
         "Arbor Realty Trust 6.375% Series D Cumulative Redeemable Preferred Stock, Liquidation Preference $25.00 per Share",
         "ABR-D"
        ],
        [
         "33",
         "ABR$E",
         "Arbor Realty Trust 6.25% Series E Cumulative Redeemable Preferred Stock",
         "ABR-E"
        ],
        [
         "34",
         "ABR$F",
         "Arbor Realty Trust 6.25% Series F Fixed-to-Floating Rate Cumulative Redeemable Preferred Stock, Liquidation Preference $25.00 per share",
         "ABR-F"
        ],
        [
         "35",
         "ABT",
         "Abbott Laboratories Common Stock",
         "ABT"
        ],
        [
         "36",
         "AC",
         "Associated Capital Group, Inc. Common Stock",
         "AC"
        ],
        [
         "37",
         "ACA",
         "Arcosa, Inc. Common Stock ",
         "ACA"
        ],
        [
         "38",
         "ACCO",
         "Acco Brands Corporation Common Stock",
         "ACCO"
        ],
        [
         "39",
         "ACCS",
         "ACCESS Newswire Inc. Common Stock",
         "ACCS"
        ],
        [
         "40",
         "ACEL",
         "Accel Entertainment, Inc. ",
         "ACEL"
        ],
        [
         "43",
         "ACHR",
         "Archer Aviation Inc. Class A Common Stock",
         "ACHR"
        ],
        [
         "44",
         "ACHR.W",
         "Archer Aviation Inc. Redeemable Warrants, each whole warrant exercisable for one Class A common stock at an exercise price of $11.50",
         "ACHR+"
        ],
        [
         "45",
         "ACI",
         "Albertsons Companies, Inc. Class A Common Stock",
         "ACI"
        ],
        [
         "49",
         "ACM",
         "AECOM Common Stock",
         "ACM"
        ],
        [
         "50",
         "ACN",
         "Accenture plc Class A Ordinary Shares (Ireland)",
         "ACN"
        ],
        [
         "51",
         "ACP",
         "abrdn Income Credit Strategies Fund Common Shares",
         "ACP"
        ],
        [
         "52",
         "ACP$A",
         "abrdn Income Credit Strategies Fund 5.250% Series A Perpetual Preferred Stock",
         "ACP-A"
        ],
        [
         "53",
         "ACR",
         "ACRES Commercial Realty Corp. Common Stock",
         "ACR"
        ],
        [
         "54",
         "ACR$C",
         "ACRES Commercial Realty Corp. 8.625% Fixed-to-Floating Series C Cumulative Redeemable Preferred Stock ",
         "ACR-C"
        ],
        [
         "55",
         "ACR$D",
         "ACRES Commercial Realty Corp. 7.875% Series D Cumulative Redeemable Preferred Stock",
         "ACR-D"
        ],
        [
         "56",
         "ACRE",
         "Ares Commercial Real Estate Corporation Common Stock",
         "ACRE"
        ],
        [
         "59",
         "ACU",
         "Acme United Corporation. Common Stock",
         "ACU"
        ],
        [
         "60",
         "ACV",
         "Virtus Diversified Income & Convertible Fund Common Shares of Beneficial Interest",
         "ACV"
        ],
        [
         "61",
         "ACVA",
         "ACV Auctions Inc. Class A Common Stock",
         "ACVA"
        ],
        [
         "65",
         "ADC",
         "Agree Realty Corporation Common Stock",
         "ADC"
        ],
        [
         "66",
         "ADC$A",
         "Agree Realty Corporation Depositary Shares, each representing 1/1,000th of a 4.250% Series A Cumulative Redeemable Preferred Stock",
         "ADC-A"
        ],
        [
         "67",
         "ADCT",
         "ADC Therapeutics SA Common Shares",
         "ADCT"
        ],
        [
         "70",
         "ADM",
         "Archer-Daniels-Midland Company Common Stock",
         "ADM"
        ],
        [
         "72",
         "ADNT",
         "Adient plc Ordinary Shares ",
         "ADNT"
        ],
        [
         "74",
         "ADT",
         "ADT Inc. Common Stock",
         "ADT"
        ],
        [
         "76",
         "ADX",
         "Adams Diversified Equity Fund Inc.",
         "ADX"
        ],
        [
         "77",
         "AEE",
         "Ameren Corporation Common Stock",
         "AEE"
        ],
        [
         "78",
         "AEF",
         "abrdn Emerging Markets ex-China Fund, Inc. Common Stock",
         "AEF"
        ]
       ],
       "shape": {
        "columns": 3,
        "rows": 3145
       }
      },
      "text/html": [
       "<div>\n",
       "<style scoped>\n",
       "    .dataframe tbody tr th:only-of-type {\n",
       "        vertical-align: middle;\n",
       "    }\n",
       "\n",
       "    .dataframe tbody tr th {\n",
       "        vertical-align: top;\n",
       "    }\n",
       "\n",
       "    .dataframe thead th {\n",
       "        text-align: right;\n",
       "    }\n",
       "</style>\n",
       "<table border=\"1\" class=\"dataframe\">\n",
       "  <thead>\n",
       "    <tr style=\"text-align: right;\">\n",
       "      <th></th>\n",
       "      <th>ACT Symbol</th>\n",
       "      <th>Security Name</th>\n",
       "      <th>NASDAQ Symbol</th>\n",
       "    </tr>\n",
       "  </thead>\n",
       "  <tbody>\n",
       "    <tr>\n",
       "      <th>0</th>\n",
       "      <td>A</td>\n",
       "      <td>Agilent Technologies, Inc. Common Stock</td>\n",
       "      <td>A</td>\n",
       "    </tr>\n",
       "    <tr>\n",
       "      <th>1</th>\n",
       "      <td>AA</td>\n",
       "      <td>Alcoa Corporation Common Stock</td>\n",
       "      <td>AA</td>\n",
       "    </tr>\n",
       "    <tr>\n",
       "      <th>4</th>\n",
       "      <td>AACT</td>\n",
       "      <td>Ares Acquisition Corporation II Class A Ordina...</td>\n",
       "      <td>AACT</td>\n",
       "    </tr>\n",
       "    <tr>\n",
       "      <th>5</th>\n",
       "      <td>AACT.U</td>\n",
       "      <td>Ares Acquisition Corporation II Units, each co...</td>\n",
       "      <td>AACT=</td>\n",
       "    </tr>\n",
       "    <tr>\n",
       "      <th>6</th>\n",
       "      <td>AACT.W</td>\n",
       "      <td>Ares Acquisition Corporation II Redeemable War...</td>\n",
       "      <td>AACT+</td>\n",
       "    </tr>\n",
       "    <tr>\n",
       "      <th>...</th>\n",
       "      <td>...</td>\n",
       "      <td>...</td>\n",
       "      <td>...</td>\n",
       "    </tr>\n",
       "    <tr>\n",
       "      <th>6484</th>\n",
       "      <td>ZTO</td>\n",
       "      <td>ZTO Express (Cayman) Inc. American Depositary ...</td>\n",
       "      <td>ZTO</td>\n",
       "    </tr>\n",
       "    <tr>\n",
       "      <th>6485</th>\n",
       "      <td>ZTR</td>\n",
       "      <td>Virtus Total Return Fund Inc.</td>\n",
       "      <td>ZTR</td>\n",
       "    </tr>\n",
       "    <tr>\n",
       "      <th>6486</th>\n",
       "      <td>ZTS</td>\n",
       "      <td>Zoetis Inc. Class A Common Stock</td>\n",
       "      <td>ZTS</td>\n",
       "    </tr>\n",
       "    <tr>\n",
       "      <th>6487</th>\n",
       "      <td>ZVIA</td>\n",
       "      <td>Zevia PBC Class A Common Stock</td>\n",
       "      <td>ZVIA</td>\n",
       "    </tr>\n",
       "    <tr>\n",
       "      <th>6490</th>\n",
       "      <td>ZWS</td>\n",
       "      <td>Zurn Elkay Water Solutions Corporation Common ...</td>\n",
       "      <td>ZWS</td>\n",
       "    </tr>\n",
       "  </tbody>\n",
       "</table>\n",
       "<p>3145 rows × 3 columns</p>\n",
       "</div>"
      ],
      "text/plain": [
       "     ACT Symbol                                      Security Name  \\\n",
       "0             A            Agilent Technologies, Inc. Common Stock   \n",
       "1            AA                    Alcoa Corporation Common Stock    \n",
       "4          AACT  Ares Acquisition Corporation II Class A Ordina...   \n",
       "5        AACT.U  Ares Acquisition Corporation II Units, each co...   \n",
       "6        AACT.W  Ares Acquisition Corporation II Redeemable War...   \n",
       "...         ...                                                ...   \n",
       "6484        ZTO  ZTO Express (Cayman) Inc. American Depositary ...   \n",
       "6485        ZTR                      Virtus Total Return Fund Inc.   \n",
       "6486        ZTS                   Zoetis Inc. Class A Common Stock   \n",
       "6487       ZVIA                     Zevia PBC Class A Common Stock   \n",
       "6490        ZWS  Zurn Elkay Water Solutions Corporation Common ...   \n",
       "\n",
       "     NASDAQ Symbol  \n",
       "0                A  \n",
       "1               AA  \n",
       "4             AACT  \n",
       "5            AACT=  \n",
       "6            AACT+  \n",
       "...            ...  \n",
       "6484           ZTO  \n",
       "6485           ZTR  \n",
       "6486           ZTS  \n",
       "6487          ZVIA  \n",
       "6490           ZWS  \n",
       "\n",
       "[3145 rows x 3 columns]"
      ]
     },
     "execution_count": 53,
     "metadata": {},
     "output_type": "execute_result"
    }
   ],
   "source": [
    "nyse_tickers"
   ]
  },
  {
   "cell_type": "code",
   "execution_count": null,
   "id": "d6cbd681",
   "metadata": {},
   "outputs": [],
   "source": [
    "# Join "
   ]
  }
 ],
 "metadata": {
  "kernelspec": {
   "display_name": ".venv",
   "language": "python",
   "name": "python3"
  },
  "language_info": {
   "codemirror_mode": {
    "name": "ipython",
    "version": 3
   },
   "file_extension": ".py",
   "mimetype": "text/x-python",
   "name": "python",
   "nbconvert_exporter": "python",
   "pygments_lexer": "ipython3",
   "version": "3.13.2"
  }
 },
 "nbformat": 4,
 "nbformat_minor": 5
}
