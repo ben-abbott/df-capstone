{
 "cells": [
  {
   "cell_type": "code",
   "execution_count": 23,
   "id": "2e17e20c",
   "metadata": {},
   "outputs": [],
   "source": [
    "import pandas as pd\n"
   ]
  },
  {
   "cell_type": "code",
   "execution_count": 24,
   "id": "79bb7584",
   "metadata": {},
   "outputs": [
    {
     "data": {
      "text/plain": [
       "array(['N', 'P', 'Z', 'A', 'V', nan], dtype=object)"
      ]
     },
     "execution_count": 24,
     "metadata": {},
     "output_type": "execute_result"
    }
   ],
   "source": [
    "nasdaq_tickers = pd.read_csv('../data/raw/nasdaq_tickers.txt', sep='|')\n",
    "nyse_tickers = pd.read_csv('../data/raw/other_tickers.txt', sep='|')\n",
    "nyse_tickers.Exchange.unique()\n"
   ]
  },
  {
   "cell_type": "code",
   "execution_count": null,
   "id": "bff6b475",
   "metadata": {},
   "outputs": [],
   "source": [
    "# exchange_map = {\n",
    "#     'A': 'AMEX',\n",
    "#     'N': 'NYSE',\n",
    "#     'P': 'ARCA',\n",
    "#     'V': 'IEX',\n",
    "#     'Z': 'BATS'\n",
    "# }\n",
    "\n",
    "# nyse_tickers['Exchange'] = nyse_tickers['Exchange'].map(exchange_map)\n",
    "nyse_tickers.Exchange.unique()"
   ]
  },
  {
   "cell_type": "code",
   "execution_count": 25,
   "id": "9c639dbc",
   "metadata": {},
   "outputs": [
    {
     "data": {
      "application/vnd.microsoft.datawrangler.viewer.v0+json": {
       "columns": [
        {
         "name": "index",
         "rawType": "int64",
         "type": "integer"
        },
        {
         "name": "ACT Symbol",
         "rawType": "object",
         "type": "string"
        },
        {
         "name": "Security Name",
         "rawType": "object",
         "type": "string"
        },
        {
         "name": "Exchange",
         "rawType": "object",
         "type": "string"
        },
        {
         "name": "CQS Symbol",
         "rawType": "object",
         "type": "string"
        },
        {
         "name": "ETF",
         "rawType": "object",
         "type": "string"
        },
        {
         "name": "Round Lot Size",
         "rawType": "float64",
         "type": "float"
        },
        {
         "name": "Test Issue",
         "rawType": "object",
         "type": "string"
        },
        {
         "name": "NASDAQ Symbol",
         "rawType": "object",
         "type": "string"
        }
       ],
       "conversionMethod": "pd.DataFrame",
       "ref": "05fcaff8-8ab3-41ef-a774-7f7a81b45df1",
       "rows": [
        [
         "0",
         "A",
         "Agilent Technologies, Inc. Common Stock",
         "NYSE",
         "A",
         "N",
         "100.0",
         "N",
         "A"
        ],
        [
         "1",
         "AA",
         "Alcoa Corporation Common Stock ",
         "NYSE",
         "AA",
         "N",
         "100.0",
         "N",
         "AA"
        ],
        [
         "4",
         "AACT",
         "Ares Acquisition Corporation II Class A Ordinary Shares",
         "NYSE",
         "AACT",
         "N",
         "100.0",
         "N",
         "AACT"
        ],
        [
         "5",
         "AACT.U",
         "Ares Acquisition Corporation II Units, each consisting of one Class A ordinary share and one-half of one redeemable warrant",
         "NYSE",
         "AACT.U",
         "N",
         "100.0",
         "N",
         "AACT="
        ],
        [
         "6",
         "AACT.W",
         "Ares Acquisition Corporation II Redeemable Warrants, each whole warrant exercisable for one Class A ordinary share at an exercise price of $11.50",
         "NYSE",
         "AACT.WS",
         "N",
         "100.0",
         "N",
         "AACT+"
        ],
        [
         "7",
         "AAM",
         "AA Mission Acquisition Corp. Class A Ordinary Shares",
         "NYSE",
         "AAM",
         "N",
         "100.0",
         "N",
         "AAM"
        ],
        [
         "8",
         "AAM.U",
         "AA Mission Acquisition Corp. Units, each consisting of one Class A Ordinary Share and one-half of one redeemable warrant",
         "NYSE",
         "AAM.U",
         "N",
         "100.0",
         "N",
         "AAM="
        ],
        [
         "9",
         "AAM.W",
         "AA Mission Acquisition Corp. Warrants, each whole warrant entitles the holder to purchase one Class A ordinary share at a price of $11.50 per share",
         "NYSE",
         "AAM.WS",
         "N",
         "100.0",
         "N",
         "AAM+"
        ],
        [
         "10",
         "AAMI",
         "Acadian Asset Management Inc. Common Stock",
         "NYSE",
         "AAMI",
         "N",
         "100.0",
         "N",
         "AAMI"
        ],
        [
         "11",
         "AAP",
         "Advance Auto Parts Inc.",
         "NYSE",
         "AAP",
         "N",
         "100.0",
         "N",
         "AAP"
        ],
        [
         "16",
         "AAT",
         "American Assets Trust, Inc. Common Stock",
         "NYSE",
         "AAT",
         "N",
         "100.0",
         "N",
         "AAT"
        ],
        [
         "17",
         "AB",
         "AllianceBernstein Holding L.P.  Units",
         "NYSE",
         "AB",
         "N",
         "100.0",
         "N",
         "AB"
        ],
        [
         "18",
         "ABBV",
         "AbbVie Inc. Common Stock",
         "NYSE",
         "ABBV",
         "N",
         "100.0",
         "N",
         "ABBV"
        ],
        [
         "19",
         "ABCB",
         "Ameris Bancorp Common Stock",
         "NYSE",
         "ABCB",
         "N",
         "100.0",
         "N",
         "ABCB"
        ],
        [
         "21",
         "ABEV",
         "Ambev S.A. American Depositary Shares (Each representing 1 Common Share)",
         "NYSE",
         "ABEV",
         "N",
         "100.0",
         "N",
         "ABEV"
        ],
        [
         "23",
         "ABG",
         "Asbury Automotive Group Inc Common Stock",
         "NYSE",
         "ABG",
         "N",
         "100.0",
         "N",
         "ABG"
        ],
        [
         "28",
         "ABM",
         "ABM Industries Incorporated Common Stock",
         "NYSE",
         "ABM",
         "N",
         "100.0",
         "N",
         "ABM"
        ],
        [
         "31",
         "ABR",
         "Arbor Realty Trust Common Stock",
         "NYSE",
         "ABR",
         "N",
         "100.0",
         "N",
         "ABR"
        ],
        [
         "32",
         "ABR$D",
         "Arbor Realty Trust 6.375% Series D Cumulative Redeemable Preferred Stock, Liquidation Preference $25.00 per Share",
         "NYSE",
         "ABRpD",
         "N",
         "100.0",
         "N",
         "ABR-D"
        ],
        [
         "33",
         "ABR$E",
         "Arbor Realty Trust 6.25% Series E Cumulative Redeemable Preferred Stock",
         "NYSE",
         "ABRpE",
         "N",
         "100.0",
         "N",
         "ABR-E"
        ],
        [
         "34",
         "ABR$F",
         "Arbor Realty Trust 6.25% Series F Fixed-to-Floating Rate Cumulative Redeemable Preferred Stock, Liquidation Preference $25.00 per share",
         "NYSE",
         "ABRpF",
         "N",
         "100.0",
         "N",
         "ABR-F"
        ],
        [
         "35",
         "ABT",
         "Abbott Laboratories Common Stock",
         "NYSE",
         "ABT",
         "N",
         "100.0",
         "N",
         "ABT"
        ],
        [
         "36",
         "AC",
         "Associated Capital Group, Inc. Common Stock",
         "NYSE",
         "AC",
         "N",
         "100.0",
         "N",
         "AC"
        ],
        [
         "37",
         "ACA",
         "Arcosa, Inc. Common Stock ",
         "NYSE",
         "ACA",
         "N",
         "100.0",
         "N",
         "ACA"
        ],
        [
         "38",
         "ACCO",
         "Acco Brands Corporation Common Stock",
         "NYSE",
         "ACCO",
         "N",
         "100.0",
         "N",
         "ACCO"
        ],
        [
         "39",
         "ACCS",
         "ACCESS Newswire Inc. Common Stock",
         "AMEX",
         "ACCS",
         "N",
         "100.0",
         "N",
         "ACCS"
        ],
        [
         "40",
         "ACEL",
         "Accel Entertainment, Inc. ",
         "NYSE",
         "ACEL",
         "N",
         "100.0",
         "N",
         "ACEL"
        ],
        [
         "43",
         "ACHR",
         "Archer Aviation Inc. Class A Common Stock",
         "NYSE",
         "ACHR",
         "N",
         "100.0",
         "N",
         "ACHR"
        ],
        [
         "44",
         "ACHR.W",
         "Archer Aviation Inc. Redeemable Warrants, each whole warrant exercisable for one Class A common stock at an exercise price of $11.50",
         "NYSE",
         "ACHR.WS",
         "N",
         "100.0",
         "N",
         "ACHR+"
        ],
        [
         "45",
         "ACI",
         "Albertsons Companies, Inc. Class A Common Stock",
         "NYSE",
         "ACI",
         "N",
         "100.0",
         "N",
         "ACI"
        ],
        [
         "49",
         "ACM",
         "AECOM Common Stock",
         "NYSE",
         "ACM",
         "N",
         "100.0",
         "N",
         "ACM"
        ],
        [
         "50",
         "ACN",
         "Accenture plc Class A Ordinary Shares (Ireland)",
         "NYSE",
         "ACN",
         "N",
         "100.0",
         "N",
         "ACN"
        ],
        [
         "51",
         "ACP",
         "abrdn Income Credit Strategies Fund Common Shares",
         "NYSE",
         "ACP",
         "N",
         "100.0",
         "N",
         "ACP"
        ],
        [
         "52",
         "ACP$A",
         "abrdn Income Credit Strategies Fund 5.250% Series A Perpetual Preferred Stock",
         "NYSE",
         "ACPpA",
         "N",
         "100.0",
         "N",
         "ACP-A"
        ],
        [
         "53",
         "ACR",
         "ACRES Commercial Realty Corp. Common Stock",
         "NYSE",
         "ACR",
         "N",
         "100.0",
         "N",
         "ACR"
        ],
        [
         "54",
         "ACR$C",
         "ACRES Commercial Realty Corp. 8.625% Fixed-to-Floating Series C Cumulative Redeemable Preferred Stock ",
         "NYSE",
         "ACRpC",
         "N",
         "100.0",
         "N",
         "ACR-C"
        ],
        [
         "55",
         "ACR$D",
         "ACRES Commercial Realty Corp. 7.875% Series D Cumulative Redeemable Preferred Stock",
         "NYSE",
         "ACRpD",
         "N",
         "100.0",
         "N",
         "ACR-D"
        ],
        [
         "56",
         "ACRE",
         "Ares Commercial Real Estate Corporation Common Stock",
         "NYSE",
         "ACRE",
         "N",
         "100.0",
         "N",
         "ACRE"
        ],
        [
         "59",
         "ACU",
         "Acme United Corporation. Common Stock",
         "AMEX",
         "ACU",
         "N",
         "100.0",
         "N",
         "ACU"
        ],
        [
         "60",
         "ACV",
         "Virtus Diversified Income & Convertible Fund Common Shares of Beneficial Interest",
         "NYSE",
         "ACV",
         "N",
         "100.0",
         "N",
         "ACV"
        ],
        [
         "61",
         "ACVA",
         "ACV Auctions Inc. Class A Common Stock",
         "NYSE",
         "ACVA",
         "N",
         "100.0",
         "N",
         "ACVA"
        ],
        [
         "65",
         "ADC",
         "Agree Realty Corporation Common Stock",
         "NYSE",
         "ADC",
         "N",
         "100.0",
         "N",
         "ADC"
        ],
        [
         "66",
         "ADC$A",
         "Agree Realty Corporation Depositary Shares, each representing 1/1,000th of a 4.250% Series A Cumulative Redeemable Preferred Stock",
         "NYSE",
         "ADCpA",
         "N",
         "100.0",
         "N",
         "ADC-A"
        ],
        [
         "67",
         "ADCT",
         "ADC Therapeutics SA Common Shares",
         "NYSE",
         "ADCT",
         "N",
         "100.0",
         "N",
         "ADCT"
        ],
        [
         "70",
         "ADM",
         "Archer-Daniels-Midland Company Common Stock",
         "NYSE",
         "ADM",
         "N",
         "100.0",
         "N",
         "ADM"
        ],
        [
         "72",
         "ADNT",
         "Adient plc Ordinary Shares ",
         "NYSE",
         "ADNT",
         "N",
         "100.0",
         "N",
         "ADNT"
        ],
        [
         "74",
         "ADT",
         "ADT Inc. Common Stock",
         "NYSE",
         "ADT",
         "N",
         "100.0",
         "N",
         "ADT"
        ],
        [
         "76",
         "ADX",
         "Adams Diversified Equity Fund Inc.",
         "NYSE",
         "ADX",
         "N",
         "100.0",
         "N",
         "ADX"
        ],
        [
         "77",
         "AEE",
         "Ameren Corporation Common Stock",
         "NYSE",
         "AEE",
         "N",
         "100.0",
         "N",
         "AEE"
        ],
        [
         "78",
         "AEF",
         "abrdn Emerging Markets ex-China Fund, Inc. Common Stock",
         "AMEX",
         "AEF",
         "N",
         "100.0",
         "N",
         "AEF"
        ]
       ],
       "shape": {
        "columns": 8,
        "rows": 3145
       }
      },
      "text/html": [
       "<div>\n",
       "<style scoped>\n",
       "    .dataframe tbody tr th:only-of-type {\n",
       "        vertical-align: middle;\n",
       "    }\n",
       "\n",
       "    .dataframe tbody tr th {\n",
       "        vertical-align: top;\n",
       "    }\n",
       "\n",
       "    .dataframe thead th {\n",
       "        text-align: right;\n",
       "    }\n",
       "</style>\n",
       "<table border=\"1\" class=\"dataframe\">\n",
       "  <thead>\n",
       "    <tr style=\"text-align: right;\">\n",
       "      <th></th>\n",
       "      <th>ACT Symbol</th>\n",
       "      <th>Security Name</th>\n",
       "      <th>Exchange</th>\n",
       "      <th>CQS Symbol</th>\n",
       "      <th>ETF</th>\n",
       "      <th>Round Lot Size</th>\n",
       "      <th>Test Issue</th>\n",
       "      <th>NASDAQ Symbol</th>\n",
       "    </tr>\n",
       "  </thead>\n",
       "  <tbody>\n",
       "    <tr>\n",
       "      <th>0</th>\n",
       "      <td>A</td>\n",
       "      <td>Agilent Technologies, Inc. Common Stock</td>\n",
       "      <td>NYSE</td>\n",
       "      <td>A</td>\n",
       "      <td>N</td>\n",
       "      <td>100.0</td>\n",
       "      <td>N</td>\n",
       "      <td>A</td>\n",
       "    </tr>\n",
       "    <tr>\n",
       "      <th>1</th>\n",
       "      <td>AA</td>\n",
       "      <td>Alcoa Corporation Common Stock</td>\n",
       "      <td>NYSE</td>\n",
       "      <td>AA</td>\n",
       "      <td>N</td>\n",
       "      <td>100.0</td>\n",
       "      <td>N</td>\n",
       "      <td>AA</td>\n",
       "    </tr>\n",
       "    <tr>\n",
       "      <th>4</th>\n",
       "      <td>AACT</td>\n",
       "      <td>Ares Acquisition Corporation II Class A Ordina...</td>\n",
       "      <td>NYSE</td>\n",
       "      <td>AACT</td>\n",
       "      <td>N</td>\n",
       "      <td>100.0</td>\n",
       "      <td>N</td>\n",
       "      <td>AACT</td>\n",
       "    </tr>\n",
       "    <tr>\n",
       "      <th>5</th>\n",
       "      <td>AACT.U</td>\n",
       "      <td>Ares Acquisition Corporation II Units, each co...</td>\n",
       "      <td>NYSE</td>\n",
       "      <td>AACT.U</td>\n",
       "      <td>N</td>\n",
       "      <td>100.0</td>\n",
       "      <td>N</td>\n",
       "      <td>AACT=</td>\n",
       "    </tr>\n",
       "    <tr>\n",
       "      <th>6</th>\n",
       "      <td>AACT.W</td>\n",
       "      <td>Ares Acquisition Corporation II Redeemable War...</td>\n",
       "      <td>NYSE</td>\n",
       "      <td>AACT.WS</td>\n",
       "      <td>N</td>\n",
       "      <td>100.0</td>\n",
       "      <td>N</td>\n",
       "      <td>AACT+</td>\n",
       "    </tr>\n",
       "    <tr>\n",
       "      <th>...</th>\n",
       "      <td>...</td>\n",
       "      <td>...</td>\n",
       "      <td>...</td>\n",
       "      <td>...</td>\n",
       "      <td>...</td>\n",
       "      <td>...</td>\n",
       "      <td>...</td>\n",
       "      <td>...</td>\n",
       "    </tr>\n",
       "    <tr>\n",
       "      <th>6484</th>\n",
       "      <td>ZTO</td>\n",
       "      <td>ZTO Express (Cayman) Inc. American Depositary ...</td>\n",
       "      <td>NYSE</td>\n",
       "      <td>ZTO</td>\n",
       "      <td>N</td>\n",
       "      <td>100.0</td>\n",
       "      <td>N</td>\n",
       "      <td>ZTO</td>\n",
       "    </tr>\n",
       "    <tr>\n",
       "      <th>6485</th>\n",
       "      <td>ZTR</td>\n",
       "      <td>Virtus Total Return Fund Inc.</td>\n",
       "      <td>NYSE</td>\n",
       "      <td>ZTR</td>\n",
       "      <td>N</td>\n",
       "      <td>100.0</td>\n",
       "      <td>N</td>\n",
       "      <td>ZTR</td>\n",
       "    </tr>\n",
       "    <tr>\n",
       "      <th>6486</th>\n",
       "      <td>ZTS</td>\n",
       "      <td>Zoetis Inc. Class A Common Stock</td>\n",
       "      <td>NYSE</td>\n",
       "      <td>ZTS</td>\n",
       "      <td>N</td>\n",
       "      <td>100.0</td>\n",
       "      <td>N</td>\n",
       "      <td>ZTS</td>\n",
       "    </tr>\n",
       "    <tr>\n",
       "      <th>6487</th>\n",
       "      <td>ZVIA</td>\n",
       "      <td>Zevia PBC Class A Common Stock</td>\n",
       "      <td>NYSE</td>\n",
       "      <td>ZVIA</td>\n",
       "      <td>N</td>\n",
       "      <td>100.0</td>\n",
       "      <td>N</td>\n",
       "      <td>ZVIA</td>\n",
       "    </tr>\n",
       "    <tr>\n",
       "      <th>6490</th>\n",
       "      <td>ZWS</td>\n",
       "      <td>Zurn Elkay Water Solutions Corporation Common ...</td>\n",
       "      <td>NYSE</td>\n",
       "      <td>ZWS</td>\n",
       "      <td>N</td>\n",
       "      <td>100.0</td>\n",
       "      <td>N</td>\n",
       "      <td>ZWS</td>\n",
       "    </tr>\n",
       "  </tbody>\n",
       "</table>\n",
       "<p>3145 rows × 8 columns</p>\n",
       "</div>"
      ],
      "text/plain": [
       "     ACT Symbol                                      Security Name Exchange  \\\n",
       "0             A            Agilent Technologies, Inc. Common Stock     NYSE   \n",
       "1            AA                    Alcoa Corporation Common Stock      NYSE   \n",
       "4          AACT  Ares Acquisition Corporation II Class A Ordina...     NYSE   \n",
       "5        AACT.U  Ares Acquisition Corporation II Units, each co...     NYSE   \n",
       "6        AACT.W  Ares Acquisition Corporation II Redeemable War...     NYSE   \n",
       "...         ...                                                ...      ...   \n",
       "6484        ZTO  ZTO Express (Cayman) Inc. American Depositary ...     NYSE   \n",
       "6485        ZTR                      Virtus Total Return Fund Inc.     NYSE   \n",
       "6486        ZTS                   Zoetis Inc. Class A Common Stock     NYSE   \n",
       "6487       ZVIA                     Zevia PBC Class A Common Stock     NYSE   \n",
       "6490        ZWS  Zurn Elkay Water Solutions Corporation Common ...     NYSE   \n",
       "\n",
       "     CQS Symbol ETF  Round Lot Size Test Issue NASDAQ Symbol  \n",
       "0             A   N           100.0          N             A  \n",
       "1            AA   N           100.0          N            AA  \n",
       "4          AACT   N           100.0          N          AACT  \n",
       "5        AACT.U   N           100.0          N         AACT=  \n",
       "6       AACT.WS   N           100.0          N         AACT+  \n",
       "...         ...  ..             ...        ...           ...  \n",
       "6484        ZTO   N           100.0          N           ZTO  \n",
       "6485        ZTR   N           100.0          N           ZTR  \n",
       "6486        ZTS   N           100.0          N           ZTS  \n",
       "6487       ZVIA   N           100.0          N          ZVIA  \n",
       "6490        ZWS   N           100.0          N           ZWS  \n",
       "\n",
       "[3145 rows x 8 columns]"
      ]
     },
     "execution_count": 25,
     "metadata": {},
     "output_type": "execute_result"
    }
   ],
   "source": [
    "# Cleaning other tickers csv\n",
    "nyse_tickers = nyse_tickers[nyse_tickers['Test Issue'] == 'N']\n",
    "nyse_tickers = nyse_tickers[nyse_tickers['ETF'] == 'N']\n",
    "# change exchange letters to full exchange names for reability\n",
    "exchange_map = {\n",
    "    'A': 'AMEX',\n",
    "    'N': 'NYSE',\n",
    "    'P': 'ARCA',\n",
    "    'V': 'IEX',\n",
    "    'Z': 'BATS'\n",
    "}\n",
    "\n",
    "nyse_tickers['Exchange'] = nyse_tickers['Exchange'].map(exchange_map)\n",
    "nyse_tickers"
   ]
  },
  {
   "cell_type": "code",
   "execution_count": 26,
   "id": "a452e567",
   "metadata": {},
   "outputs": [
    {
     "data": {
      "application/vnd.microsoft.datawrangler.viewer.v0+json": {
       "columns": [
        {
         "name": "index",
         "rawType": "int64",
         "type": "integer"
        },
        {
         "name": "ACT Symbol",
         "rawType": "object",
         "type": "string"
        },
        {
         "name": "Security Name",
         "rawType": "object",
         "type": "string"
        },
        {
         "name": "Exchange",
         "rawType": "object",
         "type": "string"
        },
        {
         "name": "NASDAQ Symbol",
         "rawType": "object",
         "type": "string"
        }
       ],
       "conversionMethod": "pd.DataFrame",
       "ref": "9cc68645-88d9-499e-93e6-ab878f483ca9",
       "rows": [
        [
         "0",
         "A",
         "Agilent Technologies, Inc. Common Stock",
         "NYSE",
         "A"
        ],
        [
         "1",
         "AA",
         "Alcoa Corporation Common Stock ",
         "NYSE",
         "AA"
        ],
        [
         "4",
         "AACT",
         "Ares Acquisition Corporation II Class A Ordinary Shares",
         "NYSE",
         "AACT"
        ],
        [
         "5",
         "AACT.U",
         "Ares Acquisition Corporation II Units, each consisting of one Class A ordinary share and one-half of one redeemable warrant",
         "NYSE",
         "AACT="
        ],
        [
         "6",
         "AACT.W",
         "Ares Acquisition Corporation II Redeemable Warrants, each whole warrant exercisable for one Class A ordinary share at an exercise price of $11.50",
         "NYSE",
         "AACT+"
        ],
        [
         "7",
         "AAM",
         "AA Mission Acquisition Corp. Class A Ordinary Shares",
         "NYSE",
         "AAM"
        ],
        [
         "8",
         "AAM.U",
         "AA Mission Acquisition Corp. Units, each consisting of one Class A Ordinary Share and one-half of one redeemable warrant",
         "NYSE",
         "AAM="
        ],
        [
         "9",
         "AAM.W",
         "AA Mission Acquisition Corp. Warrants, each whole warrant entitles the holder to purchase one Class A ordinary share at a price of $11.50 per share",
         "NYSE",
         "AAM+"
        ],
        [
         "10",
         "AAMI",
         "Acadian Asset Management Inc. Common Stock",
         "NYSE",
         "AAMI"
        ],
        [
         "11",
         "AAP",
         "Advance Auto Parts Inc.",
         "NYSE",
         "AAP"
        ],
        [
         "16",
         "AAT",
         "American Assets Trust, Inc. Common Stock",
         "NYSE",
         "AAT"
        ],
        [
         "17",
         "AB",
         "AllianceBernstein Holding L.P.  Units",
         "NYSE",
         "AB"
        ],
        [
         "18",
         "ABBV",
         "AbbVie Inc. Common Stock",
         "NYSE",
         "ABBV"
        ],
        [
         "19",
         "ABCB",
         "Ameris Bancorp Common Stock",
         "NYSE",
         "ABCB"
        ],
        [
         "21",
         "ABEV",
         "Ambev S.A. American Depositary Shares (Each representing 1 Common Share)",
         "NYSE",
         "ABEV"
        ],
        [
         "23",
         "ABG",
         "Asbury Automotive Group Inc Common Stock",
         "NYSE",
         "ABG"
        ],
        [
         "28",
         "ABM",
         "ABM Industries Incorporated Common Stock",
         "NYSE",
         "ABM"
        ],
        [
         "31",
         "ABR",
         "Arbor Realty Trust Common Stock",
         "NYSE",
         "ABR"
        ],
        [
         "32",
         "ABR$D",
         "Arbor Realty Trust 6.375% Series D Cumulative Redeemable Preferred Stock, Liquidation Preference $25.00 per Share",
         "NYSE",
         "ABR-D"
        ],
        [
         "33",
         "ABR$E",
         "Arbor Realty Trust 6.25% Series E Cumulative Redeemable Preferred Stock",
         "NYSE",
         "ABR-E"
        ],
        [
         "34",
         "ABR$F",
         "Arbor Realty Trust 6.25% Series F Fixed-to-Floating Rate Cumulative Redeemable Preferred Stock, Liquidation Preference $25.00 per share",
         "NYSE",
         "ABR-F"
        ],
        [
         "35",
         "ABT",
         "Abbott Laboratories Common Stock",
         "NYSE",
         "ABT"
        ],
        [
         "36",
         "AC",
         "Associated Capital Group, Inc. Common Stock",
         "NYSE",
         "AC"
        ],
        [
         "37",
         "ACA",
         "Arcosa, Inc. Common Stock ",
         "NYSE",
         "ACA"
        ],
        [
         "38",
         "ACCO",
         "Acco Brands Corporation Common Stock",
         "NYSE",
         "ACCO"
        ],
        [
         "39",
         "ACCS",
         "ACCESS Newswire Inc. Common Stock",
         "AMEX",
         "ACCS"
        ],
        [
         "40",
         "ACEL",
         "Accel Entertainment, Inc. ",
         "NYSE",
         "ACEL"
        ],
        [
         "43",
         "ACHR",
         "Archer Aviation Inc. Class A Common Stock",
         "NYSE",
         "ACHR"
        ],
        [
         "44",
         "ACHR.W",
         "Archer Aviation Inc. Redeemable Warrants, each whole warrant exercisable for one Class A common stock at an exercise price of $11.50",
         "NYSE",
         "ACHR+"
        ],
        [
         "45",
         "ACI",
         "Albertsons Companies, Inc. Class A Common Stock",
         "NYSE",
         "ACI"
        ],
        [
         "49",
         "ACM",
         "AECOM Common Stock",
         "NYSE",
         "ACM"
        ],
        [
         "50",
         "ACN",
         "Accenture plc Class A Ordinary Shares (Ireland)",
         "NYSE",
         "ACN"
        ],
        [
         "51",
         "ACP",
         "abrdn Income Credit Strategies Fund Common Shares",
         "NYSE",
         "ACP"
        ],
        [
         "52",
         "ACP$A",
         "abrdn Income Credit Strategies Fund 5.250% Series A Perpetual Preferred Stock",
         "NYSE",
         "ACP-A"
        ],
        [
         "53",
         "ACR",
         "ACRES Commercial Realty Corp. Common Stock",
         "NYSE",
         "ACR"
        ],
        [
         "54",
         "ACR$C",
         "ACRES Commercial Realty Corp. 8.625% Fixed-to-Floating Series C Cumulative Redeemable Preferred Stock ",
         "NYSE",
         "ACR-C"
        ],
        [
         "55",
         "ACR$D",
         "ACRES Commercial Realty Corp. 7.875% Series D Cumulative Redeemable Preferred Stock",
         "NYSE",
         "ACR-D"
        ],
        [
         "56",
         "ACRE",
         "Ares Commercial Real Estate Corporation Common Stock",
         "NYSE",
         "ACRE"
        ],
        [
         "59",
         "ACU",
         "Acme United Corporation. Common Stock",
         "AMEX",
         "ACU"
        ],
        [
         "60",
         "ACV",
         "Virtus Diversified Income & Convertible Fund Common Shares of Beneficial Interest",
         "NYSE",
         "ACV"
        ],
        [
         "61",
         "ACVA",
         "ACV Auctions Inc. Class A Common Stock",
         "NYSE",
         "ACVA"
        ],
        [
         "65",
         "ADC",
         "Agree Realty Corporation Common Stock",
         "NYSE",
         "ADC"
        ],
        [
         "66",
         "ADC$A",
         "Agree Realty Corporation Depositary Shares, each representing 1/1,000th of a 4.250% Series A Cumulative Redeemable Preferred Stock",
         "NYSE",
         "ADC-A"
        ],
        [
         "67",
         "ADCT",
         "ADC Therapeutics SA Common Shares",
         "NYSE",
         "ADCT"
        ],
        [
         "70",
         "ADM",
         "Archer-Daniels-Midland Company Common Stock",
         "NYSE",
         "ADM"
        ],
        [
         "72",
         "ADNT",
         "Adient plc Ordinary Shares ",
         "NYSE",
         "ADNT"
        ],
        [
         "74",
         "ADT",
         "ADT Inc. Common Stock",
         "NYSE",
         "ADT"
        ],
        [
         "76",
         "ADX",
         "Adams Diversified Equity Fund Inc.",
         "NYSE",
         "ADX"
        ],
        [
         "77",
         "AEE",
         "Ameren Corporation Common Stock",
         "NYSE",
         "AEE"
        ],
        [
         "78",
         "AEF",
         "abrdn Emerging Markets ex-China Fund, Inc. Common Stock",
         "AMEX",
         "AEF"
        ]
       ],
       "shape": {
        "columns": 4,
        "rows": 3145
       }
      },
      "text/html": [
       "<div>\n",
       "<style scoped>\n",
       "    .dataframe tbody tr th:only-of-type {\n",
       "        vertical-align: middle;\n",
       "    }\n",
       "\n",
       "    .dataframe tbody tr th {\n",
       "        vertical-align: top;\n",
       "    }\n",
       "\n",
       "    .dataframe thead th {\n",
       "        text-align: right;\n",
       "    }\n",
       "</style>\n",
       "<table border=\"1\" class=\"dataframe\">\n",
       "  <thead>\n",
       "    <tr style=\"text-align: right;\">\n",
       "      <th></th>\n",
       "      <th>ACT Symbol</th>\n",
       "      <th>Security Name</th>\n",
       "      <th>Exchange</th>\n",
       "      <th>NASDAQ Symbol</th>\n",
       "    </tr>\n",
       "  </thead>\n",
       "  <tbody>\n",
       "    <tr>\n",
       "      <th>0</th>\n",
       "      <td>A</td>\n",
       "      <td>Agilent Technologies, Inc. Common Stock</td>\n",
       "      <td>NYSE</td>\n",
       "      <td>A</td>\n",
       "    </tr>\n",
       "    <tr>\n",
       "      <th>1</th>\n",
       "      <td>AA</td>\n",
       "      <td>Alcoa Corporation Common Stock</td>\n",
       "      <td>NYSE</td>\n",
       "      <td>AA</td>\n",
       "    </tr>\n",
       "    <tr>\n",
       "      <th>4</th>\n",
       "      <td>AACT</td>\n",
       "      <td>Ares Acquisition Corporation II Class A Ordina...</td>\n",
       "      <td>NYSE</td>\n",
       "      <td>AACT</td>\n",
       "    </tr>\n",
       "    <tr>\n",
       "      <th>5</th>\n",
       "      <td>AACT.U</td>\n",
       "      <td>Ares Acquisition Corporation II Units, each co...</td>\n",
       "      <td>NYSE</td>\n",
       "      <td>AACT=</td>\n",
       "    </tr>\n",
       "    <tr>\n",
       "      <th>6</th>\n",
       "      <td>AACT.W</td>\n",
       "      <td>Ares Acquisition Corporation II Redeemable War...</td>\n",
       "      <td>NYSE</td>\n",
       "      <td>AACT+</td>\n",
       "    </tr>\n",
       "    <tr>\n",
       "      <th>...</th>\n",
       "      <td>...</td>\n",
       "      <td>...</td>\n",
       "      <td>...</td>\n",
       "      <td>...</td>\n",
       "    </tr>\n",
       "    <tr>\n",
       "      <th>6484</th>\n",
       "      <td>ZTO</td>\n",
       "      <td>ZTO Express (Cayman) Inc. American Depositary ...</td>\n",
       "      <td>NYSE</td>\n",
       "      <td>ZTO</td>\n",
       "    </tr>\n",
       "    <tr>\n",
       "      <th>6485</th>\n",
       "      <td>ZTR</td>\n",
       "      <td>Virtus Total Return Fund Inc.</td>\n",
       "      <td>NYSE</td>\n",
       "      <td>ZTR</td>\n",
       "    </tr>\n",
       "    <tr>\n",
       "      <th>6486</th>\n",
       "      <td>ZTS</td>\n",
       "      <td>Zoetis Inc. Class A Common Stock</td>\n",
       "      <td>NYSE</td>\n",
       "      <td>ZTS</td>\n",
       "    </tr>\n",
       "    <tr>\n",
       "      <th>6487</th>\n",
       "      <td>ZVIA</td>\n",
       "      <td>Zevia PBC Class A Common Stock</td>\n",
       "      <td>NYSE</td>\n",
       "      <td>ZVIA</td>\n",
       "    </tr>\n",
       "    <tr>\n",
       "      <th>6490</th>\n",
       "      <td>ZWS</td>\n",
       "      <td>Zurn Elkay Water Solutions Corporation Common ...</td>\n",
       "      <td>NYSE</td>\n",
       "      <td>ZWS</td>\n",
       "    </tr>\n",
       "  </tbody>\n",
       "</table>\n",
       "<p>3145 rows × 4 columns</p>\n",
       "</div>"
      ],
      "text/plain": [
       "     ACT Symbol                                      Security Name Exchange  \\\n",
       "0             A            Agilent Technologies, Inc. Common Stock     NYSE   \n",
       "1            AA                    Alcoa Corporation Common Stock      NYSE   \n",
       "4          AACT  Ares Acquisition Corporation II Class A Ordina...     NYSE   \n",
       "5        AACT.U  Ares Acquisition Corporation II Units, each co...     NYSE   \n",
       "6        AACT.W  Ares Acquisition Corporation II Redeemable War...     NYSE   \n",
       "...         ...                                                ...      ...   \n",
       "6484        ZTO  ZTO Express (Cayman) Inc. American Depositary ...     NYSE   \n",
       "6485        ZTR                      Virtus Total Return Fund Inc.     NYSE   \n",
       "6486        ZTS                   Zoetis Inc. Class A Common Stock     NYSE   \n",
       "6487       ZVIA                     Zevia PBC Class A Common Stock     NYSE   \n",
       "6490        ZWS  Zurn Elkay Water Solutions Corporation Common ...     NYSE   \n",
       "\n",
       "     NASDAQ Symbol  \n",
       "0                A  \n",
       "1               AA  \n",
       "4             AACT  \n",
       "5            AACT=  \n",
       "6            AACT+  \n",
       "...            ...  \n",
       "6484           ZTO  \n",
       "6485           ZTR  \n",
       "6486           ZTS  \n",
       "6487          ZVIA  \n",
       "6490           ZWS  \n",
       "\n",
       "[3145 rows x 4 columns]"
      ]
     },
     "execution_count": 26,
     "metadata": {},
     "output_type": "execute_result"
    }
   ],
   "source": [
    "others_columns_to_drop = ['CQS Symbol', 'ETF', 'Round Lot Size', 'Test Issue']\n",
    "nyse_tickers.drop(labels=others_columns_to_drop, axis=1, inplace=True)\n",
    "nyse_tickers"
   ]
  },
  {
   "cell_type": "code",
   "execution_count": null,
   "id": "991c0bac",
   "metadata": {},
   "outputs": [],
   "source": [
    "\n",
    "nyse_tickers.set_index('ACT Symbol')"
   ]
  },
  {
   "cell_type": "code",
   "execution_count": null,
   "id": "3bb67b69",
   "metadata": {},
   "outputs": [],
   "source": [
    "# Clean nasdaq ticker data\n",
    "nasdaq_tickers = nasdaq_tickers[nasdaq_tickers['Test Issue'] == 'N']\n",
    "nasdaq_tickers = nasdaq_tickers[nasdaq_tickers['ETF'] == 'N']\n",
    "nasdaq_tickers = nasdaq_tickers[nasdaq_tickers['NextShares'] == 'N']\n",
    "nasdaq_tickers['Exchange'] = 'NASDAQ'\n",
    "# nasdaq_tickers\n",
    "# Still 1 missing ticker symbol\n",
    "# nasdaq_tickers[nasdaq_tickers['Symbol'].isnull()]\n",
    "# after googling, found the symbol is NA for this company, no other stock has that ticker so will replace the null with NA row id 2894\n",
    "nasdaq_tickers['Symbol'] = nasdaq_tickers['Symbol'].fillna('NA')\n",
    "nasdaq_tickers"
   ]
  },
  {
   "cell_type": "code",
   "execution_count": null,
   "id": "70b7ddbd",
   "metadata": {},
   "outputs": [],
   "source": [
    "nasdaq_columns_to_drop = ['Market Category', 'Test Issue', 'Financial Status', 'Round Lot Size', 'ETF', 'NextShares']\n",
    "nasdaq_tickers.drop(labels=nasdaq_columns_to_drop, axis=1, inplace=True)\n",
    "nasdaq_tickers"
   ]
  },
  {
   "cell_type": "code",
   "execution_count": null,
   "id": "c03ead2d",
   "metadata": {},
   "outputs": [],
   "source": [
    "nyse_tickers"
   ]
  },
  {
   "cell_type": "code",
   "execution_count": null,
   "id": "d6cbd681",
   "metadata": {},
   "outputs": [],
   "source": [
    "# Join \n",
    "\n",
    "# Ensure both have 'Ticker' as a column\n",
    "nasdaq_tickers['Ticker'] = nasdaq_tickers['Symbol']\n",
    "nyse_tickers['Ticker'] = nyse_tickers['ACT Symbol']\n",
    "\n",
    "# Check for overlap\n",
    "duplicate_tickers = set(nasdaq_tickers['Ticker']) & set(nyse_tickers['Ticker'])\n",
    "print(f\"Number of duplicate tickers: {len(duplicate_tickers)}\")\n",
    "print(\"Some duplicate tickers:\", list(duplicate_tickers)[:10])"
   ]
  }
 ],
 "metadata": {
  "kernelspec": {
   "display_name": ".venv",
   "language": "python",
   "name": "python3"
  },
  "language_info": {
   "codemirror_mode": {
    "name": "ipython",
    "version": 3
   },
   "file_extension": ".py",
   "mimetype": "text/x-python",
   "name": "python",
   "nbconvert_exporter": "python",
   "pygments_lexer": "ipython3",
   "version": "3.13.2"
  }
 },
 "nbformat": 4,
 "nbformat_minor": 5
}
